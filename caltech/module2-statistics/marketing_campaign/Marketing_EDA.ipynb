{
 "cells": [
  {
   "cell_type": "markdown",
   "source": [
    "# Marketing Campaigns\n",
    "\n",
    "\n",
    "## 1. Business Understanding\n",
    "\n",
    "### Problem scenario: \n",
    "Marketing mix stands as a widely utilized concept in the execution of marketing strategies. It encompasses various facets within a comprehensive marketing plan, with a central focus on the four Ps of marketing: product, price, place, and promotion.\n",
    "\n",
    "### Problem objective:\n",
    "As a data scientist, you must conduct exploratory data analysis and hypothesis testing to enhance your comprehension of the diverse factors influencing customer acquisition.\n",
    "\n",
    "### Data description:\n",
    "The variables such as birth year, education, income, and others pertain to the first 'P' or 'People' in the tabular data presented to the user. The expenditures on items like wine, fruits, and gold, are associated with ‘Product’. Information relevant to sales channels, such as websites and stores, is connected to ‘Place’, and the fields discussing promotions and the outcomes of various campaigns are linked to ‘Promotion’.\n",
    "\n",
    "\n",
    "Steps to perform:\n",
    "\n",
    "\t•\tCreate variables to represent the total number of children, age, and total spending.\n",
    "\t•\tDerive the total purchases from the number of transactions across the three channels.\n",
    "\t\n",
    "\n",
    "\t•\tGenerate box plots and histograms to gain insights into the distributions and identify outliers. Implement outlier treatment as needed.\n",
    "\t•\tApply ordinal and one-hot encoding based on the various types of categorical variables.\n",
    "\t•\tGenerate a heatmap to illustrate the correlation between different pairs of variables.\n",
    "\n",
    "\t•\tTest the following hypotheses:\n",
    "\t•\tOlder individuals may not possess the same level of technological proficiency and may, therefore, lean toward traditional in-store shopping preferences.\n",
    "\t•\tCustomers with children likely experience time constraints, making online shopping a more convenient option.\n",
    "\t•\tSales at physical stores may face the risk of cannibalization by alternative distribution channels.\n",
    "\t•\tDoes the United States significantly outperform the rest of the world in total purchase volumes?\n",
    "\n",
    "\n",
    "\t•\tUse appropriate visualization to help analyze the following:\n",
    "\t•\tIdentify the top-performing products and those with the lowest revenue.\n",
    "\t•\tExamine if there is a correlation between customers' age and the acceptance rate of the last campaign.\n",
    "\t•\tDetermine the country with the highest number of customers who accepted the last campaign.\n",
    "\t•\tInvestigate if there is a discernible pattern in the number of children at home and the total expenditure.\n",
    "\t•\tAnalyze the educational background of customers who lodged complaints in the last two years.\n",
    "\n"
   ],
   "metadata": {
    "collapsed": false
   },
   "id": "a158550f71e155fd"
  },
  {
   "cell_type": "code",
   "execution_count": 154,
   "outputs": [],
   "source": [
    "import numpy as np\n",
    "import pandas as pd\n",
    "import matplotlib.pyplot as plt\n",
    "import seaborn as sns\n",
    "from scipy import stats\n",
    "import warnings\n",
    "warnings.filterwarnings('ignore')\n",
    "\n",
    "# For better visualizations\n",
    "plt.style.use('ggplot')\n",
    "sns.set(style=\"whitegrid\")"
   ],
   "metadata": {
    "collapsed": false,
    "ExecuteTime": {
     "end_time": "2025-05-05T01:28:36.150648Z",
     "start_time": "2025-05-05T01:28:36.049355Z"
    }
   },
   "id": "11061ed47bfa1d7b"
  },
  {
   "cell_type": "markdown",
   "source": [],
   "metadata": {
    "collapsed": false
   },
   "id": "13d7de50de57eddf"
  },
  {
   "cell_type": "markdown",
   "source": [
    "## Dataset Overview"
   ],
   "metadata": {
    "collapsed": false
   },
   "id": "29afcf1d0f4c0a14"
  },
  {
   "cell_type": "code",
   "execution_count": 155,
   "id": "initial_id",
   "metadata": {
    "collapsed": true,
    "ExecuteTime": {
     "end_time": "2025-05-05T01:28:36.600648Z",
     "start_time": "2025-05-05T01:28:36.057528Z"
    }
   },
   "outputs": [
    {
     "name": "stdout",
     "output_type": "stream",
     "text": [
      "Dataset Shape: (2240, 28)\n",
      "<class 'pandas.core.frame.DataFrame'>\n",
      "RangeIndex: 2240 entries, 0 to 2239\n",
      "Data columns (total 28 columns):\n",
      " #   Column               Non-Null Count  Dtype \n",
      "---  ------               --------------  ----- \n",
      " 0   ID                   2240 non-null   int64 \n",
      " 1   Year_Birth           2240 non-null   int64 \n",
      " 2   Education            2240 non-null   object\n",
      " 3   Marital_Status       2240 non-null   object\n",
      " 4   Income               2216 non-null   object\n",
      " 5   Kidhome              2240 non-null   int64 \n",
      " 6   Teenhome             2240 non-null   int64 \n",
      " 7   Dt_Customer          2240 non-null   object\n",
      " 8   Recency              2240 non-null   int64 \n",
      " 9   MntWines             2240 non-null   int64 \n",
      " 10  MntFruits            2240 non-null   int64 \n",
      " 11  MntMeatProducts      2240 non-null   int64 \n",
      " 12  MntFishProducts      2240 non-null   int64 \n",
      " 13  MntSweetProducts     2240 non-null   int64 \n",
      " 14  MntGoldProds         2240 non-null   int64 \n",
      " 15  NumDealsPurchases    2240 non-null   int64 \n",
      " 16  NumWebPurchases      2240 non-null   int64 \n",
      " 17  NumCatalogPurchases  2240 non-null   int64 \n",
      " 18  NumStorePurchases    2240 non-null   int64 \n",
      " 19  NumWebVisitsMonth    2240 non-null   int64 \n",
      " 20  AcceptedCmp3         2240 non-null   int64 \n",
      " 21  AcceptedCmp4         2240 non-null   int64 \n",
      " 22  AcceptedCmp5         2240 non-null   int64 \n",
      " 23  AcceptedCmp1         2240 non-null   int64 \n",
      " 24  AcceptedCmp2         2240 non-null   int64 \n",
      " 25  Response             2240 non-null   int64 \n",
      " 26  Complain             2240 non-null   int64 \n",
      " 27  Country              2240 non-null   object\n",
      "dtypes: int64(23), object(5)\n",
      "memory usage: 1.1 MB\n"
     ]
    }
   ],
   "source": [
    "# Read data\n",
    "df = pd.read_csv(\"data/marketing_data.csv\")\n",
    "\n",
    "# Display basic information\n",
    "print(f\"Dataset Shape: {df.shape}\")\n",
    "df.info(memory_usage=\"deep\")"
   ]
  },
  {
   "cell_type": "markdown",
   "source": [],
   "metadata": {
    "collapsed": false
   },
   "id": "84611cd22b6dc06b"
  },
  {
   "cell_type": "code",
   "execution_count": 156,
   "outputs": [
    {
     "name": "stdout",
     "output_type": "stream",
     "text": [
      "Summary Statistics for Categorical Variables:\n"
     ]
    },
    {
     "data": {
      "text/plain": "               count unique         top  freq\nEducation       2240      5  Graduation  1127\nMarital_Status  2240      8     Married   864\nIncome          2216   1974  $7,500.00     12\nDt_Customer     2240    663     8/31/12    12\nCountry         2240      8          SP  1095",
      "text/html": "<div>\n<style scoped>\n    .dataframe tbody tr th:only-of-type {\n        vertical-align: middle;\n    }\n\n    .dataframe tbody tr th {\n        vertical-align: top;\n    }\n\n    .dataframe thead th {\n        text-align: right;\n    }\n</style>\n<table border=\"1\" class=\"dataframe\">\n  <thead>\n    <tr style=\"text-align: right;\">\n      <th></th>\n      <th>count</th>\n      <th>unique</th>\n      <th>top</th>\n      <th>freq</th>\n    </tr>\n  </thead>\n  <tbody>\n    <tr>\n      <th>Education</th>\n      <td>2240</td>\n      <td>5</td>\n      <td>Graduation</td>\n      <td>1127</td>\n    </tr>\n    <tr>\n      <th>Marital_Status</th>\n      <td>2240</td>\n      <td>8</td>\n      <td>Married</td>\n      <td>864</td>\n    </tr>\n    <tr>\n      <th>Income</th>\n      <td>2216</td>\n      <td>1974</td>\n      <td>$7,500.00</td>\n      <td>12</td>\n    </tr>\n    <tr>\n      <th>Dt_Customer</th>\n      <td>2240</td>\n      <td>663</td>\n      <td>8/31/12</td>\n      <td>12</td>\n    </tr>\n    <tr>\n      <th>Country</th>\n      <td>2240</td>\n      <td>8</td>\n      <td>SP</td>\n      <td>1095</td>\n    </tr>\n  </tbody>\n</table>\n</div>"
     },
     "execution_count": 156,
     "metadata": {},
     "output_type": "execute_result"
    }
   ],
   "source": [
    "# Display basic statistics for numerical columns\n",
    "print(\"Summary Statistics for Categorical Variables:\")\n",
    "df.describe(include='O').T"
   ],
   "metadata": {
    "collapsed": false,
    "ExecuteTime": {
     "end_time": "2025-05-05T01:28:36.646114Z",
     "start_time": "2025-05-05T01:28:36.116095Z"
    }
   },
   "id": "8fb9cf1e78c4c577"
  },
  {
   "cell_type": "markdown",
   "source": [
    "#### ![](data/7611621.png)  &nbsp;&nbsp;   Analysis Notes: \n",
    "\n",
    "*Dataset has 23 numeric columns and 5 sting columns.*\n",
    "\n",
    "*Education, Marital_Status and Country are the categorical variables.*\n",
    "\n",
    "*Income  should be cast to float. Income has missing values*\n",
    "\n",
    "*Dt_Customer should be cast to date.*\n",
    "\n",
    "*Almost 40% of data has Country=SP*\n"
   ],
   "metadata": {
    "collapsed": false
   },
   "id": "698f875c7948bcb3"
  },
  {
   "cell_type": "code",
   "execution_count": 157,
   "outputs": [
    {
     "data": {
      "text/plain": "0     Graduation\n5            PhD\n6       2n Cycle\n11        Master\n54         Basic\nName: Education, dtype: object"
     },
     "execution_count": 157,
     "metadata": {},
     "output_type": "execute_result"
    }
   ],
   "source": [
    "df['Education'].drop_duplicates()"
   ],
   "metadata": {
    "collapsed": false,
    "ExecuteTime": {
     "end_time": "2025-05-05T01:28:36.647398Z",
     "start_time": "2025-05-05T01:28:36.131567Z"
    }
   },
   "id": "733f9bf349af078e"
  },
  {
   "cell_type": "code",
   "execution_count": 158,
   "outputs": [
    {
     "data": {
      "text/plain": "0       Divorced\n1         Single\n2        Married\n3       Together\n12         Widow\n103         YOLO\n286        Alone\n1068      Absurd\nName: Marital_Status, dtype: object"
     },
     "execution_count": 158,
     "metadata": {},
     "output_type": "execute_result"
    }
   ],
   "source": [
    "df['Marital_Status'].drop_duplicates()"
   ],
   "metadata": {
    "collapsed": false,
    "ExecuteTime": {
     "end_time": "2025-05-05T01:28:36.650855Z",
     "start_time": "2025-05-05T01:28:36.147381Z"
    }
   },
   "id": "b5a2d43226cb59d3"
  },
  {
   "cell_type": "code",
   "execution_count": 159,
   "outputs": [],
   "source": [
    "# Update Education '2n Cycle' with Masters (according to the internet it seems mean the same)\n",
    "df['Education'] = df['Education'].apply(lambda x: x if x != '2n Cycle' else 'Master')\n",
    "# Update Marital_Status with 2 categories Single and Married\n",
    "df['Marital_Status'] = df['Marital_Status'].apply(lambda x: 'Married' if x == 'Married' or x == 'Togather' else 'Single')\n",
    "# cast money to float\n",
    "df['Income'] = df['Income'].replace('[\\$,]', '', regex=True).astype(float)\n",
    "# caste to datetime\n",
    "df['Dt_Customer'] = pd.to_datetime(df['Dt_Customer'], format='%m/%d/%y')"
   ],
   "metadata": {
    "collapsed": false,
    "ExecuteTime": {
     "end_time": "2025-05-05T01:28:36.651130Z",
     "start_time": "2025-05-05T01:28:36.167807Z"
    }
   },
   "id": "e7a663666aa3ccc3"
  },
  {
   "cell_type": "code",
   "execution_count": 160,
   "outputs": [
    {
     "data": {
      "text/plain": "0     Graduation\n5            PhD\n6         Master\n54         Basic\nName: Education, dtype: object"
     },
     "execution_count": 160,
     "metadata": {},
     "output_type": "execute_result"
    }
   ],
   "source": [
    "df['Education'].drop_duplicates()"
   ],
   "metadata": {
    "collapsed": false,
    "ExecuteTime": {
     "end_time": "2025-05-05T01:28:36.651448Z",
     "start_time": "2025-05-05T01:28:36.177701Z"
    }
   },
   "id": "ad5e54d6f68a90b0"
  },
  {
   "cell_type": "code",
   "execution_count": 161,
   "outputs": [
    {
     "name": "stdout",
     "output_type": "stream",
     "text": [
      "Statistical analysis:\n"
     ]
    },
    {
     "data": {
      "text/plain": "                      count                           mean  \\\nID                   2240.0                    5592.159821   \nYear_Birth           2240.0                    1968.805804   \nIncome               2216.0                   52247.251354   \nKidhome              2240.0                       0.444196   \nTeenhome             2240.0                        0.50625   \nDt_Customer            2240  2013-07-10 10:01:42.857142784   \nRecency              2240.0                      49.109375   \nMntWines             2240.0                     303.935714   \nMntFruits            2240.0                      26.302232   \nMntMeatProducts      2240.0                         166.95   \nMntFishProducts      2240.0                      37.525446   \nMntSweetProducts     2240.0                      27.062946   \nMntGoldProds         2240.0                      44.021875   \nNumDealsPurchases    2240.0                          2.325   \nNumWebPurchases      2240.0                       4.084821   \nNumCatalogPurchases  2240.0                       2.662054   \nNumStorePurchases    2240.0                       5.790179   \nNumWebVisitsMonth    2240.0                       5.316518   \nAcceptedCmp3         2240.0                       0.072768   \nAcceptedCmp4         2240.0                       0.074554   \nAcceptedCmp5         2240.0                       0.072768   \nAcceptedCmp1         2240.0                       0.064286   \nAcceptedCmp2         2240.0                       0.013393   \nResponse             2240.0                       0.149107   \nComplain             2240.0                       0.009375   \n\n                                     min                  25%  \\\nID                                   0.0              2828.25   \nYear_Birth                        1893.0               1959.0   \nIncome                            1730.0              35303.0   \nKidhome                              0.0                  0.0   \nTeenhome                             0.0                  0.0   \nDt_Customer          2012-07-30 00:00:00  2013-01-16 00:00:00   \nRecency                              0.0                 24.0   \nMntWines                             0.0                23.75   \nMntFruits                            0.0                  1.0   \nMntMeatProducts                      0.0                 16.0   \nMntFishProducts                      0.0                  3.0   \nMntSweetProducts                     0.0                  1.0   \nMntGoldProds                         0.0                  9.0   \nNumDealsPurchases                    0.0                  1.0   \nNumWebPurchases                      0.0                  2.0   \nNumCatalogPurchases                  0.0                  0.0   \nNumStorePurchases                    0.0                  3.0   \nNumWebVisitsMonth                    0.0                  3.0   \nAcceptedCmp3                         0.0                  0.0   \nAcceptedCmp4                         0.0                  0.0   \nAcceptedCmp5                         0.0                  0.0   \nAcceptedCmp1                         0.0                  0.0   \nAcceptedCmp2                         0.0                  0.0   \nResponse                             0.0                  0.0   \nComplain                             0.0                  0.0   \n\n                                     50%                  75%  \\\nID                                5458.5              8427.75   \nYear_Birth                        1970.0               1977.0   \nIncome                           51381.5              68522.0   \nKidhome                              0.0                  1.0   \nTeenhome                             0.0                  1.0   \nDt_Customer          2013-07-08 12:00:00  2013-12-30 06:00:00   \nRecency                             49.0                 74.0   \nMntWines                           173.5               504.25   \nMntFruits                            8.0                 33.0   \nMntMeatProducts                     67.0                232.0   \nMntFishProducts                     12.0                 50.0   \nMntSweetProducts                     8.0                 33.0   \nMntGoldProds                        24.0                 56.0   \nNumDealsPurchases                    2.0                  3.0   \nNumWebPurchases                      4.0                  6.0   \nNumCatalogPurchases                  2.0                  4.0   \nNumStorePurchases                    5.0                  8.0   \nNumWebVisitsMonth                    6.0                  7.0   \nAcceptedCmp3                         0.0                  0.0   \nAcceptedCmp4                         0.0                  0.0   \nAcceptedCmp5                         0.0                  0.0   \nAcceptedCmp1                         0.0                  0.0   \nAcceptedCmp2                         0.0                  0.0   \nResponse                             0.0                  0.0   \nComplain                             0.0                  0.0   \n\n                                     max           std  \nID                               11191.0   3246.662198  \nYear_Birth                        1996.0     11.984069  \nIncome                          666666.0  25173.076661  \nKidhome                              2.0      0.538398  \nTeenhome                             2.0      0.544538  \nDt_Customer          2014-06-29 00:00:00           NaN  \nRecency                             99.0     28.962453  \nMntWines                          1493.0    336.597393  \nMntFruits                          199.0     39.773434  \nMntMeatProducts                   1725.0    225.715373  \nMntFishProducts                    259.0     54.628979  \nMntSweetProducts                   263.0     41.280498  \nMntGoldProds                       362.0     52.167439  \nNumDealsPurchases                   15.0      1.932238  \nNumWebPurchases                     27.0      2.778714  \nNumCatalogPurchases                 28.0      2.923101  \nNumStorePurchases                   13.0      3.250958  \nNumWebVisitsMonth                   20.0      2.426645  \nAcceptedCmp3                         1.0      0.259813  \nAcceptedCmp4                         1.0      0.262728  \nAcceptedCmp5                         1.0      0.259813  \nAcceptedCmp1                         1.0      0.245316  \nAcceptedCmp2                         1.0      0.114976  \nResponse                             1.0      0.356274  \nComplain                             1.0      0.096391  ",
      "text/html": "<div>\n<style scoped>\n    .dataframe tbody tr th:only-of-type {\n        vertical-align: middle;\n    }\n\n    .dataframe tbody tr th {\n        vertical-align: top;\n    }\n\n    .dataframe thead th {\n        text-align: right;\n    }\n</style>\n<table border=\"1\" class=\"dataframe\">\n  <thead>\n    <tr style=\"text-align: right;\">\n      <th></th>\n      <th>count</th>\n      <th>mean</th>\n      <th>min</th>\n      <th>25%</th>\n      <th>50%</th>\n      <th>75%</th>\n      <th>max</th>\n      <th>std</th>\n    </tr>\n  </thead>\n  <tbody>\n    <tr>\n      <th>ID</th>\n      <td>2240.0</td>\n      <td>5592.159821</td>\n      <td>0.0</td>\n      <td>2828.25</td>\n      <td>5458.5</td>\n      <td>8427.75</td>\n      <td>11191.0</td>\n      <td>3246.662198</td>\n    </tr>\n    <tr>\n      <th>Year_Birth</th>\n      <td>2240.0</td>\n      <td>1968.805804</td>\n      <td>1893.0</td>\n      <td>1959.0</td>\n      <td>1970.0</td>\n      <td>1977.0</td>\n      <td>1996.0</td>\n      <td>11.984069</td>\n    </tr>\n    <tr>\n      <th>Income</th>\n      <td>2216.0</td>\n      <td>52247.251354</td>\n      <td>1730.0</td>\n      <td>35303.0</td>\n      <td>51381.5</td>\n      <td>68522.0</td>\n      <td>666666.0</td>\n      <td>25173.076661</td>\n    </tr>\n    <tr>\n      <th>Kidhome</th>\n      <td>2240.0</td>\n      <td>0.444196</td>\n      <td>0.0</td>\n      <td>0.0</td>\n      <td>0.0</td>\n      <td>1.0</td>\n      <td>2.0</td>\n      <td>0.538398</td>\n    </tr>\n    <tr>\n      <th>Teenhome</th>\n      <td>2240.0</td>\n      <td>0.50625</td>\n      <td>0.0</td>\n      <td>0.0</td>\n      <td>0.0</td>\n      <td>1.0</td>\n      <td>2.0</td>\n      <td>0.544538</td>\n    </tr>\n    <tr>\n      <th>Dt_Customer</th>\n      <td>2240</td>\n      <td>2013-07-10 10:01:42.857142784</td>\n      <td>2012-07-30 00:00:00</td>\n      <td>2013-01-16 00:00:00</td>\n      <td>2013-07-08 12:00:00</td>\n      <td>2013-12-30 06:00:00</td>\n      <td>2014-06-29 00:00:00</td>\n      <td>NaN</td>\n    </tr>\n    <tr>\n      <th>Recency</th>\n      <td>2240.0</td>\n      <td>49.109375</td>\n      <td>0.0</td>\n      <td>24.0</td>\n      <td>49.0</td>\n      <td>74.0</td>\n      <td>99.0</td>\n      <td>28.962453</td>\n    </tr>\n    <tr>\n      <th>MntWines</th>\n      <td>2240.0</td>\n      <td>303.935714</td>\n      <td>0.0</td>\n      <td>23.75</td>\n      <td>173.5</td>\n      <td>504.25</td>\n      <td>1493.0</td>\n      <td>336.597393</td>\n    </tr>\n    <tr>\n      <th>MntFruits</th>\n      <td>2240.0</td>\n      <td>26.302232</td>\n      <td>0.0</td>\n      <td>1.0</td>\n      <td>8.0</td>\n      <td>33.0</td>\n      <td>199.0</td>\n      <td>39.773434</td>\n    </tr>\n    <tr>\n      <th>MntMeatProducts</th>\n      <td>2240.0</td>\n      <td>166.95</td>\n      <td>0.0</td>\n      <td>16.0</td>\n      <td>67.0</td>\n      <td>232.0</td>\n      <td>1725.0</td>\n      <td>225.715373</td>\n    </tr>\n    <tr>\n      <th>MntFishProducts</th>\n      <td>2240.0</td>\n      <td>37.525446</td>\n      <td>0.0</td>\n      <td>3.0</td>\n      <td>12.0</td>\n      <td>50.0</td>\n      <td>259.0</td>\n      <td>54.628979</td>\n    </tr>\n    <tr>\n      <th>MntSweetProducts</th>\n      <td>2240.0</td>\n      <td>27.062946</td>\n      <td>0.0</td>\n      <td>1.0</td>\n      <td>8.0</td>\n      <td>33.0</td>\n      <td>263.0</td>\n      <td>41.280498</td>\n    </tr>\n    <tr>\n      <th>MntGoldProds</th>\n      <td>2240.0</td>\n      <td>44.021875</td>\n      <td>0.0</td>\n      <td>9.0</td>\n      <td>24.0</td>\n      <td>56.0</td>\n      <td>362.0</td>\n      <td>52.167439</td>\n    </tr>\n    <tr>\n      <th>NumDealsPurchases</th>\n      <td>2240.0</td>\n      <td>2.325</td>\n      <td>0.0</td>\n      <td>1.0</td>\n      <td>2.0</td>\n      <td>3.0</td>\n      <td>15.0</td>\n      <td>1.932238</td>\n    </tr>\n    <tr>\n      <th>NumWebPurchases</th>\n      <td>2240.0</td>\n      <td>4.084821</td>\n      <td>0.0</td>\n      <td>2.0</td>\n      <td>4.0</td>\n      <td>6.0</td>\n      <td>27.0</td>\n      <td>2.778714</td>\n    </tr>\n    <tr>\n      <th>NumCatalogPurchases</th>\n      <td>2240.0</td>\n      <td>2.662054</td>\n      <td>0.0</td>\n      <td>0.0</td>\n      <td>2.0</td>\n      <td>4.0</td>\n      <td>28.0</td>\n      <td>2.923101</td>\n    </tr>\n    <tr>\n      <th>NumStorePurchases</th>\n      <td>2240.0</td>\n      <td>5.790179</td>\n      <td>0.0</td>\n      <td>3.0</td>\n      <td>5.0</td>\n      <td>8.0</td>\n      <td>13.0</td>\n      <td>3.250958</td>\n    </tr>\n    <tr>\n      <th>NumWebVisitsMonth</th>\n      <td>2240.0</td>\n      <td>5.316518</td>\n      <td>0.0</td>\n      <td>3.0</td>\n      <td>6.0</td>\n      <td>7.0</td>\n      <td>20.0</td>\n      <td>2.426645</td>\n    </tr>\n    <tr>\n      <th>AcceptedCmp3</th>\n      <td>2240.0</td>\n      <td>0.072768</td>\n      <td>0.0</td>\n      <td>0.0</td>\n      <td>0.0</td>\n      <td>0.0</td>\n      <td>1.0</td>\n      <td>0.259813</td>\n    </tr>\n    <tr>\n      <th>AcceptedCmp4</th>\n      <td>2240.0</td>\n      <td>0.074554</td>\n      <td>0.0</td>\n      <td>0.0</td>\n      <td>0.0</td>\n      <td>0.0</td>\n      <td>1.0</td>\n      <td>0.262728</td>\n    </tr>\n    <tr>\n      <th>AcceptedCmp5</th>\n      <td>2240.0</td>\n      <td>0.072768</td>\n      <td>0.0</td>\n      <td>0.0</td>\n      <td>0.0</td>\n      <td>0.0</td>\n      <td>1.0</td>\n      <td>0.259813</td>\n    </tr>\n    <tr>\n      <th>AcceptedCmp1</th>\n      <td>2240.0</td>\n      <td>0.064286</td>\n      <td>0.0</td>\n      <td>0.0</td>\n      <td>0.0</td>\n      <td>0.0</td>\n      <td>1.0</td>\n      <td>0.245316</td>\n    </tr>\n    <tr>\n      <th>AcceptedCmp2</th>\n      <td>2240.0</td>\n      <td>0.013393</td>\n      <td>0.0</td>\n      <td>0.0</td>\n      <td>0.0</td>\n      <td>0.0</td>\n      <td>1.0</td>\n      <td>0.114976</td>\n    </tr>\n    <tr>\n      <th>Response</th>\n      <td>2240.0</td>\n      <td>0.149107</td>\n      <td>0.0</td>\n      <td>0.0</td>\n      <td>0.0</td>\n      <td>0.0</td>\n      <td>1.0</td>\n      <td>0.356274</td>\n    </tr>\n    <tr>\n      <th>Complain</th>\n      <td>2240.0</td>\n      <td>0.009375</td>\n      <td>0.0</td>\n      <td>0.0</td>\n      <td>0.0</td>\n      <td>0.0</td>\n      <td>1.0</td>\n      <td>0.096391</td>\n    </tr>\n  </tbody>\n</table>\n</div>"
     },
     "execution_count": 161,
     "metadata": {},
     "output_type": "execute_result"
    }
   ],
   "source": [
    "print(\"Statistical analysis:\")\n",
    "df.describe().T"
   ],
   "metadata": {
    "collapsed": false,
    "ExecuteTime": {
     "end_time": "2025-05-05T01:28:36.652545Z",
     "start_time": "2025-05-05T01:28:36.184811Z"
    }
   },
   "id": "5e9dbe9759bf49d7"
  },
  {
   "cell_type": "markdown",
   "source": [
    "#### ![](data/7611621.png)  &nbsp;&nbsp;   Analysis Notes: \n",
    "\n",
    "*__Year_Birth__:  min=1893 looks like outlier std=12 and mean=1970, so we need to filter out rows customers that birth earlier than 1934, which are 91 years old. Looks reasonable but customers may be older still, so we will check later.*\n",
    "*__Income__: has missing values*\n",
    "*__MntWines, MntFruits, MntMeatProducts, MntFishProducts, MntSweetProducts, MntGoldProds__: data is left skewed and potentially has outliers*"
   ],
   "metadata": {
    "collapsed": false
   },
   "id": "b2b4f433ce7de0db"
  },
  {
   "cell_type": "markdown",
   "source": [
    "## 2.2 Data Quality Assessment\n",
    "Before drawing conclusions from the data, we need to assess its quality. Poor data quality can lead to inaccurate analysis and misleading insights.\n",
    "\n",
    "We'll assess four key dimensions of data quality:\n",
    "\n",
    "__Completeness__: Are there missing values?\n",
    "__Correctness__: Are there outliers, duplicates, or invalid values?\n",
    "__Relevance__: Are the variables distributed in a way that's useful for analysis?\n",
    "__Trustworthiness__: Are there inconsistencies between related variables? Are data sources reliable?"
   ],
   "metadata": {
    "collapsed": false
   },
   "id": "608678747d23be4"
  },
  {
   "cell_type": "markdown",
   "source": [
    "### 2.2.1 Missing Values Analysis\n",
    "\n",
    "Conduct missing value imputation, considering that customers with similar education and marital status tend to have comparable yearly incomes, on average. \n",
    "It may be necessary to cleanse the data before proceeding. \n",
    "Specifically, scrutinize the categories of education and marital status for data cleaning."
   ],
   "metadata": {
    "collapsed": false
   },
   "id": "551e8a20b8e066c9"
  },
  {
   "cell_type": "code",
   "execution_count": 162,
   "outputs": [
    {
     "name": "stdout",
     "output_type": "stream",
     "text": [
      "Missing Values Analysis:\n",
      "        Missing Values  Percentage\n",
      "Income              24        1.07\n"
     ]
    }
   ],
   "source": [
    "# Check for missing values\n",
    "missing_values = df.isnull().sum()\n",
    "missing_percentage = (missing_values / len(df)) * 100\n",
    "\n",
    "missing_df = pd.DataFrame({\n",
    "    'Missing Values': missing_values,\n",
    "    'Percentage': missing_percentage.round(2)\n",
    "})\n",
    "\n",
    "print(\"Missing Values Analysis:\")\n",
    "missing_values_filter = missing_df['Missing Values'] > 0\n",
    "print(missing_df[missing_values_filter].sort_values(by='Percentage', ascending=False))"
   ],
   "metadata": {
    "collapsed": false,
    "ExecuteTime": {
     "end_time": "2025-05-05T01:28:36.652834Z",
     "start_time": "2025-05-05T01:28:36.262647Z"
    }
   },
   "id": "72286b1443799d41"
  },
  {
   "cell_type": "code",
   "execution_count": 163,
   "outputs": [
    {
     "data": {
      "text/plain": "<Figure size 3000x1500 with 2 Axes>",
      "image/png": "[encoded data removed]"
     },
     "metadata": {},
     "output_type": "display_data"
    }
   ],
   "source": [
    "import matplotlib.pyplot as plt\n",
    "import seaborn as sns\n",
    "\n",
    "fig, axes = plt.subplots(ncols=2, figsize=(30,15))\n",
    "sns.boxplot(df['Income'], ax=axes[0])\n",
    "sns.distplot(df['Income'], ax=axes[1])\n",
    "plt.show()\n"
   ],
   "metadata": {
    "collapsed": false,
    "ExecuteTime": {
     "end_time": "2025-05-05T01:28:37.156587Z",
     "start_time": "2025-05-05T01:28:36.324478Z"
    }
   },
   "id": "44c605923ab74237"
  },
  {
   "cell_type": "markdown",
   "source": [],
   "metadata": {
    "collapsed": false
   },
   "id": "31be5ec2c76d206d"
  },
  {
   "cell_type": "markdown",
   "source": [
    "#### ![](data/7611621.png)  &nbsp;&nbsp;   Analysis Notes: \n",
    "*__Income__ has ~1% of missing values and data is skewed to right*  "
   ],
   "metadata": {
    "collapsed": false
   },
   "id": "cb8fc2b098e672ee"
  },
  {
   "cell_type": "code",
   "execution_count": 164,
   "outputs": [
    {
     "data": {
      "text/plain": "         ID  Year_Birth   Education Marital_Status  Income  Kidhome  Teenhome  \\\n134    8996        1957         PhD        Married     NaN        2         1   \n262    1994        1983  Graduation        Married     NaN        1         0   \n394    3769        1972         PhD         Single     NaN        1         0   \n449    5255        1986  Graduation         Single     NaN        1         0   \n525    8268        1961         PhD        Married     NaN        0         1   \n590   10629        1973      Master        Married     NaN        1         0   \n899   10475        1970      Master         Single     NaN        0         1   \n997    9235        1957  Graduation         Single     NaN        1         1   \n1096   4345        1964      Master         Single     NaN        1         1   \n1185   7187        1969      Master         Single     NaN        1         1   \n1213   8720        1978      Master         Single     NaN        0         0   \n1312   8557        1982  Graduation         Single     NaN        1         0   \n1515   2863        1970  Graduation         Single     NaN        1         2   \n1558   2437        1989  Graduation        Married     NaN        0         0   \n1693   5250        1943      Master         Single     NaN        0         0   \n1804   7281        1959         PhD         Single     NaN        0         0   \n1858   1612        1981         PhD         Single     NaN        1         0   \n1863   5079        1971  Graduation        Married     NaN        1         1   \n1880  10339        1954      Master         Single     NaN        0         1   \n1967   5798        1973      Master         Single     NaN        0         0   \n1983   2902        1958  Graduation         Single     NaN        1         1   \n2139   3117        1955  Graduation         Single     NaN        0         1   \n2165   7244        1951  Graduation         Single     NaN        2         1   \n2170   1295        1963  Graduation        Married     NaN        0         1   \n\n     Dt_Customer  Recency  MntWines  ...  NumStorePurchases  \\\n134   2012-11-19        4       230  ...                  8   \n262   2013-11-15       11         5  ...                  2   \n394   2014-03-02       17        25  ...                  3   \n449   2013-02-20       19         5  ...                  0   \n525   2013-07-11       23       352  ...                  7   \n590   2012-09-14       25        25  ...                  3   \n899   2013-04-01       39       187  ...                  6   \n997   2014-05-27       45         7  ...                  2   \n1096  2014-01-12       49         5  ...                  2   \n1185  2013-05-18       52       375  ...                  4   \n1213  2012-08-12       53        32  ...                  1   \n1312  2013-06-17       57        11  ...                  3   \n1515  2013-08-23       67       738  ...                 10   \n1558  2013-06-03       69       861  ...                 12   \n1693  2013-10-30       75       532  ...                 11   \n1804  2013-11-05       80        81  ...                  4   \n1858  2013-05-31       82        23  ...                  3   \n1863  2013-03-03       82        71  ...                  3   \n1880  2013-06-23       83       161  ...                  4   \n1967  2013-11-23       87       445  ...                  8   \n1983  2012-09-03       87        19  ...                  3   \n2139  2013-10-18       95       264  ...                  5   \n2165  2014-01-01       96        48  ...                  4   \n2170  2013-08-11       96       231  ...                  7   \n\n      NumWebVisitsMonth  AcceptedCmp3  AcceptedCmp4  AcceptedCmp5  \\\n134                   9             0             0             0   \n262                   7             0             0             0   \n394                   7             0             0             0   \n449                   1             0             0             0   \n525                   6             0             0             0   \n590                   8             0             0             0   \n899                   5             0             0             0   \n997                   7             0             0             0   \n1096                  7             0             0             0   \n1185                  3             0             0             0   \n1213                  0             0             1             0   \n1312                  6             0             0             0   \n1515                  7             0             1             0   \n1558                  3             0             1             0   \n1693                  1             0             0             1   \n1804                  2             0             0             0   \n1858                  6             0             0             0   \n1863                  8             0             0             0   \n1880                  6             0             0             0   \n1967                  1             0             0             0   \n1983                  5             0             0             0   \n2139                  7             0             0             0   \n2165                  6             0             0             0   \n2170                  4             0             0             0   \n\n      AcceptedCmp1  AcceptedCmp2  Response  Complain  Country  \n134              0             0         0         0      GER  \n262              0             0         0         0       US  \n394              0             0         0         0      AUS  \n449              0             0         0         0      AUS  \n525              0             0         0         0       CA  \n590              0             0         0         0      GER  \n899              0             0         0         0       US  \n997              0             0         0         0      GER  \n1096             0             0         0         0      AUS  \n1185             0             0         0         0      AUS  \n1213             0             0         0         0      IND  \n1312             0             0         0         0      AUS  \n1515             1             0         0         0       SP  \n1558             1             0         0         0       SP  \n1693             0             0         1         0      AUS  \n1804             0             0         0         0      AUS  \n1858             0             0         0         0      AUS  \n1863             0             0         0         0      AUS  \n1880             0             0         0         0      AUS  \n1967             0             0         0         0      GER  \n1983             0             0         0         0      AUS  \n2139             0             0         0         0      AUS  \n2165             0             0         0         0      AUS  \n2170             0             0         0         0       CA  \n\n[24 rows x 28 columns]",
      "text/html": "<div>\n<style scoped>\n    .dataframe tbody tr th:only-of-type {\n        vertical-align: middle;\n    }\n\n    .dataframe tbody tr th {\n        vertical-align: top;\n    }\n\n    .dataframe thead th {\n        text-align: right;\n    }\n</style>\n<table border=\"1\" class=\"dataframe\">\n  <thead>\n    <tr style=\"text-align: right;\">\n      <th></th>\n      <th>ID</th>\n      <th>Year_Birth</th>\n      <th>Education</th>\n      <th>Marital_Status</th>\n      <th>Income</th>\n      <th>Kidhome</th>\n      <th>Teenhome</th>\n      <th>Dt_Customer</th>\n      <th>Recency</th>\n      <th>MntWines</th>\n      <th>...</th>\n      <th>NumStorePurchases</th>\n      <th>NumWebVisitsMonth</th>\n      <th>AcceptedCmp3</th>\n      <th>AcceptedCmp4</th>\n      <th>AcceptedCmp5</th>\n      <th>AcceptedCmp1</th>\n      <th>AcceptedCmp2</th>\n      <th>Response</th>\n      <th>Complain</th>\n      <th>Country</th>\n    </tr>\n  </thead>\n  <tbody>\n    <tr>\n      <th>134</th>\n      <td>8996</td>\n      <td>1957</td>\n      <td>PhD</td>\n      <td>Married</td>\n      <td>NaN</td>\n      <td>2</td>\n      <td>1</td>\n      <td>2012-11-19</td>\n      <td>4</td>\n      <td>230</td>\n      <td>...</td>\n      <td>8</td>\n      <td>9</td>\n      <td>0</td>\n      <td>0</td>\n      <td>0</td>\n      <td>0</td>\n      <td>0</td>\n      <td>0</td>\n      <td>0</td>\n      <td>GER</td>\n    </tr>\n    <tr>\n      <th>262</th>\n      <td>1994</td>\n      <td>1983</td>\n      <td>Graduation</td>\n      <td>Married</td>\n      <td>NaN</td>\n      <td>1</td>\n      <td>0</td>\n      <td>2013-11-15</td>\n      <td>11</td>\n      <td>5</td>\n      <td>...</td>\n      <td>2</td>\n      <td>7</td>\n      <td>0</td>\n      <td>0</td>\n      <td>0</td>\n      <td>0</td>\n      <td>0</td>\n      <td>0</td>\n      <td>0</td>\n      <td>US</td>\n    </tr>\n    <tr>\n      <th>394</th>\n      <td>3769</td>\n      <td>1972</td>\n      <td>PhD</td>\n      <td>Single</td>\n      <td>NaN</td>\n      <td>1</td>\n      <td>0</td>\n      <td>2014-03-02</td>\n      <td>17</td>\n      <td>25</td>\n      <td>...</td>\n      <td>3</td>\n      <td>7</td>\n      <td>0</td>\n      <td>0</td>\n      <td>0</td>\n      <td>0</td>\n      <td>0</td>\n      <td>0</td>\n      <td>0</td>\n      <td>AUS</td>\n    </tr>\n    <tr>\n      <th>449</th>\n      <td>5255</td>\n      <td>1986</td>\n      <td>Graduation</td>\n      <td>Single</td>\n      <td>NaN</td>\n      <td>1</td>\n      <td>0</td>\n      <td>2013-02-20</td>\n      <td>19</td>\n      <td>5</td>\n      <td>...</td>\n      <td>0</td>\n      <td>1</td>\n      <td>0</td>\n      <td>0</td>\n      <td>0</td>\n      <td>0</td>\n      <td>0</td>\n      <td>0</td>\n      <td>0</td>\n      <td>AUS</td>\n    </tr>\n    <tr>\n      <th>525</th>\n      <td>8268</td>\n      <td>1961</td>\n      <td>PhD</td>\n      <td>Married</td>\n      <td>NaN</td>\n      <td>0</td>\n      <td>1</td>\n      <td>2013-07-11</td>\n      <td>23</td>\n      <td>352</td>\n      <td>...</td>\n      <td>7</td>\n      <td>6</td>\n      <td>0</td>\n      <td>0</td>\n      <td>0</td>\n      <td>0</td>\n      <td>0</td>\n      <td>0</td>\n      <td>0</td>\n      <td>CA</td>\n    </tr>\n    <tr>\n      <th>590</th>\n      <td>10629</td>\n      <td>1973</td>\n      <td>Master</td>\n      <td>Married</td>\n      <td>NaN</td>\n      <td>1</td>\n      <td>0</td>\n      <td>2012-09-14</td>\n      <td>25</td>\n      <td>25</td>\n      <td>...</td>\n      <td>3</td>\n      <td>8</td>\n      <td>0</td>\n      <td>0</td>\n      <td>0</td>\n      <td>0</td>\n      <td>0</td>\n      <td>0</td>\n      <td>0</td>\n      <td>GER</td>\n    </tr>\n    <tr>\n      <th>899</th>\n      <td>10475</td>\n      <td>1970</td>\n      <td>Master</td>\n      <td>Single</td>\n      <td>NaN</td>\n      <td>0</td>\n      <td>1</td>\n      <td>2013-04-01</td>\n      <td>39</td>\n      <td>187</td>\n      <td>...</td>\n      <td>6</td>\n      <td>5</td>\n      <td>0</td>\n      <td>0</td>\n      <td>0</td>\n      <td>0</td>\n      <td>0</td>\n      <td>0</td>\n      <td>0</td>\n      <td>US</td>\n    </tr>\n    <tr>\n      <th>997</th>\n      <td>9235</td>\n      <td>1957</td>\n      <td>Graduation</td>\n      <td>Single</td>\n      <td>NaN</td>\n      <td>1</td>\n      <td>1</td>\n      <td>2014-05-27</td>\n      <td>45</td>\n      <td>7</td>\n      <td>...</td>\n      <td>2</td>\n      <td>7</td>\n      <td>0</td>\n      <td>0</td>\n      <td>0</td>\n      <td>0</td>\n      <td>0</td>\n      <td>0</td>\n      <td>0</td>\n      <td>GER</td>\n    </tr>\n    <tr>\n      <th>1096</th>\n      <td>4345</td>\n      <td>1964</td>\n      <td>Master</td>\n      <td>Single</td>\n      <td>NaN</td>\n      <td>1</td>\n      <td>1</td>\n      <td>2014-01-12</td>\n      <td>49</td>\n      <td>5</td>\n      <td>...</td>\n      <td>2</td>\n      <td>7</td>\n      <td>0</td>\n      <td>0</td>\n      <td>0</td>\n      <td>0</td>\n      <td>0</td>\n      <td>0</td>\n      <td>0</td>\n      <td>AUS</td>\n    </tr>\n    <tr>\n      <th>1185</th>\n      <td>7187</td>\n      <td>1969</td>\n      <td>Master</td>\n      <td>Single</td>\n      <td>NaN</td>\n      <td>1</td>\n      <td>1</td>\n      <td>2013-05-18</td>\n      <td>52</td>\n      <td>375</td>\n      <td>...</td>\n      <td>4</td>\n      <td>3</td>\n      <td>0</td>\n      <td>0</td>\n      <td>0</td>\n      <td>0</td>\n      <td>0</td>\n      <td>0</td>\n      <td>0</td>\n      <td>AUS</td>\n    </tr>\n    <tr>\n      <th>1213</th>\n      <td>8720</td>\n      <td>1978</td>\n      <td>Master</td>\n      <td>Single</td>\n      <td>NaN</td>\n      <td>0</td>\n      <td>0</td>\n      <td>2012-08-12</td>\n      <td>53</td>\n      <td>32</td>\n      <td>...</td>\n      <td>1</td>\n      <td>0</td>\n      <td>0</td>\n      <td>1</td>\n      <td>0</td>\n      <td>0</td>\n      <td>0</td>\n      <td>0</td>\n      <td>0</td>\n      <td>IND</td>\n    </tr>\n    <tr>\n      <th>1312</th>\n      <td>8557</td>\n      <td>1982</td>\n      <td>Graduation</td>\n      <td>Single</td>\n      <td>NaN</td>\n      <td>1</td>\n      <td>0</td>\n      <td>2013-06-17</td>\n      <td>57</td>\n      <td>11</td>\n      <td>...</td>\n      <td>3</td>\n      <td>6</td>\n      <td>0</td>\n      <td>0</td>\n      <td>0</td>\n      <td>0</td>\n      <td>0</td>\n      <td>0</td>\n      <td>0</td>\n      <td>AUS</td>\n    </tr>\n    <tr>\n      <th>1515</th>\n      <td>2863</td>\n      <td>1970</td>\n      <td>Graduation</td>\n      <td>Single</td>\n      <td>NaN</td>\n      <td>1</td>\n      <td>2</td>\n      <td>2013-08-23</td>\n      <td>67</td>\n      <td>738</td>\n      <td>...</td>\n      <td>10</td>\n      <td>7</td>\n      <td>0</td>\n      <td>1</td>\n      <td>0</td>\n      <td>1</td>\n      <td>0</td>\n      <td>0</td>\n      <td>0</td>\n      <td>SP</td>\n    </tr>\n    <tr>\n      <th>1558</th>\n      <td>2437</td>\n      <td>1989</td>\n      <td>Graduation</td>\n      <td>Married</td>\n      <td>NaN</td>\n      <td>0</td>\n      <td>0</td>\n      <td>2013-06-03</td>\n      <td>69</td>\n      <td>861</td>\n      <td>...</td>\n      <td>12</td>\n      <td>3</td>\n      <td>0</td>\n      <td>1</td>\n      <td>0</td>\n      <td>1</td>\n      <td>0</td>\n      <td>0</td>\n      <td>0</td>\n      <td>SP</td>\n    </tr>\n    <tr>\n      <th>1693</th>\n      <td>5250</td>\n      <td>1943</td>\n      <td>Master</td>\n      <td>Single</td>\n      <td>NaN</td>\n      <td>0</td>\n      <td>0</td>\n      <td>2013-10-30</td>\n      <td>75</td>\n      <td>532</td>\n      <td>...</td>\n      <td>11</td>\n      <td>1</td>\n      <td>0</td>\n      <td>0</td>\n      <td>1</td>\n      <td>0</td>\n      <td>0</td>\n      <td>1</td>\n      <td>0</td>\n      <td>AUS</td>\n    </tr>\n    <tr>\n      <th>1804</th>\n      <td>7281</td>\n      <td>1959</td>\n      <td>PhD</td>\n      <td>Single</td>\n      <td>NaN</td>\n      <td>0</td>\n      <td>0</td>\n      <td>2013-11-05</td>\n      <td>80</td>\n      <td>81</td>\n      <td>...</td>\n      <td>4</td>\n      <td>2</td>\n      <td>0</td>\n      <td>0</td>\n      <td>0</td>\n      <td>0</td>\n      <td>0</td>\n      <td>0</td>\n      <td>0</td>\n      <td>AUS</td>\n    </tr>\n    <tr>\n      <th>1858</th>\n      <td>1612</td>\n      <td>1981</td>\n      <td>PhD</td>\n      <td>Single</td>\n      <td>NaN</td>\n      <td>1</td>\n      <td>0</td>\n      <td>2013-05-31</td>\n      <td>82</td>\n      <td>23</td>\n      <td>...</td>\n      <td>3</td>\n      <td>6</td>\n      <td>0</td>\n      <td>0</td>\n      <td>0</td>\n      <td>0</td>\n      <td>0</td>\n      <td>0</td>\n      <td>0</td>\n      <td>AUS</td>\n    </tr>\n    <tr>\n      <th>1863</th>\n      <td>5079</td>\n      <td>1971</td>\n      <td>Graduation</td>\n      <td>Married</td>\n      <td>NaN</td>\n      <td>1</td>\n      <td>1</td>\n      <td>2013-03-03</td>\n      <td>82</td>\n      <td>71</td>\n      <td>...</td>\n      <td>3</td>\n      <td>8</td>\n      <td>0</td>\n      <td>0</td>\n      <td>0</td>\n      <td>0</td>\n      <td>0</td>\n      <td>0</td>\n      <td>0</td>\n      <td>AUS</td>\n    </tr>\n    <tr>\n      <th>1880</th>\n      <td>10339</td>\n      <td>1954</td>\n      <td>Master</td>\n      <td>Single</td>\n      <td>NaN</td>\n      <td>0</td>\n      <td>1</td>\n      <td>2013-06-23</td>\n      <td>83</td>\n      <td>161</td>\n      <td>...</td>\n      <td>4</td>\n      <td>6</td>\n      <td>0</td>\n      <td>0</td>\n      <td>0</td>\n      <td>0</td>\n      <td>0</td>\n      <td>0</td>\n      <td>0</td>\n      <td>AUS</td>\n    </tr>\n    <tr>\n      <th>1967</th>\n      <td>5798</td>\n      <td>1973</td>\n      <td>Master</td>\n      <td>Single</td>\n      <td>NaN</td>\n      <td>0</td>\n      <td>0</td>\n      <td>2013-11-23</td>\n      <td>87</td>\n      <td>445</td>\n      <td>...</td>\n      <td>8</td>\n      <td>1</td>\n      <td>0</td>\n      <td>0</td>\n      <td>0</td>\n      <td>0</td>\n      <td>0</td>\n      <td>0</td>\n      <td>0</td>\n      <td>GER</td>\n    </tr>\n    <tr>\n      <th>1983</th>\n      <td>2902</td>\n      <td>1958</td>\n      <td>Graduation</td>\n      <td>Single</td>\n      <td>NaN</td>\n      <td>1</td>\n      <td>1</td>\n      <td>2012-09-03</td>\n      <td>87</td>\n      <td>19</td>\n      <td>...</td>\n      <td>3</td>\n      <td>5</td>\n      <td>0</td>\n      <td>0</td>\n      <td>0</td>\n      <td>0</td>\n      <td>0</td>\n      <td>0</td>\n      <td>0</td>\n      <td>AUS</td>\n    </tr>\n    <tr>\n      <th>2139</th>\n      <td>3117</td>\n      <td>1955</td>\n      <td>Graduation</td>\n      <td>Single</td>\n      <td>NaN</td>\n      <td>0</td>\n      <td>1</td>\n      <td>2013-10-18</td>\n      <td>95</td>\n      <td>264</td>\n      <td>...</td>\n      <td>5</td>\n      <td>7</td>\n      <td>0</td>\n      <td>0</td>\n      <td>0</td>\n      <td>0</td>\n      <td>0</td>\n      <td>0</td>\n      <td>0</td>\n      <td>AUS</td>\n    </tr>\n    <tr>\n      <th>2165</th>\n      <td>7244</td>\n      <td>1951</td>\n      <td>Graduation</td>\n      <td>Single</td>\n      <td>NaN</td>\n      <td>2</td>\n      <td>1</td>\n      <td>2014-01-01</td>\n      <td>96</td>\n      <td>48</td>\n      <td>...</td>\n      <td>4</td>\n      <td>6</td>\n      <td>0</td>\n      <td>0</td>\n      <td>0</td>\n      <td>0</td>\n      <td>0</td>\n      <td>0</td>\n      <td>0</td>\n      <td>AUS</td>\n    </tr>\n    <tr>\n      <th>2170</th>\n      <td>1295</td>\n      <td>1963</td>\n      <td>Graduation</td>\n      <td>Married</td>\n      <td>NaN</td>\n      <td>0</td>\n      <td>1</td>\n      <td>2013-08-11</td>\n      <td>96</td>\n      <td>231</td>\n      <td>...</td>\n      <td>7</td>\n      <td>4</td>\n      <td>0</td>\n      <td>0</td>\n      <td>0</td>\n      <td>0</td>\n      <td>0</td>\n      <td>0</td>\n      <td>0</td>\n      <td>CA</td>\n    </tr>\n  </tbody>\n</table>\n<p>24 rows × 28 columns</p>\n</div>"
     },
     "execution_count": 164,
     "metadata": {},
     "output_type": "execute_result"
    }
   ],
   "source": [
    "df[df['Income'].isnull()]"
   ],
   "metadata": {
    "collapsed": false,
    "ExecuteTime": {
     "end_time": "2025-05-05T01:28:37.167657Z",
     "start_time": "2025-05-05T01:28:37.133070Z"
    }
   },
   "id": "800e9b8aeca9db3a"
  },
  {
   "cell_type": "code",
   "execution_count": 165,
   "outputs": [
    {
     "name": "stdout",
     "output_type": "stream",
     "text": [
      "2.1.4\n"
     ]
    }
   ],
   "source": [
    "print(pd.__version__)"
   ],
   "metadata": {
    "collapsed": false,
    "ExecuteTime": {
     "end_time": "2025-05-05T01:28:37.179270Z",
     "start_time": "2025-05-05T01:28:37.165654Z"
    }
   },
   "id": "431d753fe1177861"
  },
  {
   "cell_type": "code",
   "execution_count": 166,
   "outputs": [
    {
     "name": "stdout",
     "output_type": "stream",
     "text": [
      "Unexpected exception formatting exception. Falling back to standard exception\n"
     ]
    },
    {
     "name": "stderr",
     "output_type": "stream",
     "text": [
      "Traceback (most recent call last):\n",
      "  File \"/Users/apoltavets/anaconda3/lib/python3.10/site-packages/IPython/core/interactiveshell.py\", line 3460, in run_code\n",
      "    exec(code_obj, self.user_global_ns, self.user_ns)\n",
      "  File \"/var/folders/x8/ps_xddr95734lgrb6gqpr7g80000gp/T/ipykernel_18107/904717176.py\", line 3, in <module>\n",
      "    mni.fit_transform(df)\n",
      "  File \"/Users/apoltavets/anaconda3/lib/python3.10/site-packages/sklearn/utils/_set_output.py\", line 319, in wrapped\n",
      "    data_to_wrap = f(self, X, *args, **kwargs)\n",
      "  File \"/Users/apoltavets/anaconda3/lib/python3.10/site-packages/sklearn/base.py\", line 918, in fit_transform\n",
      "    return self.fit(X, **fit_params).transform(X)\n",
      "  File \"/Users/apoltavets/anaconda3/lib/python3.10/site-packages/sklearn/utils/_set_output.py\", line 319, in wrapped\n",
      "    data_to_wrap = f(self, X, *args, **kwargs)\n",
      "  File \"/Users/apoltavets/anaconda3/lib/python3.10/site-packages/feature_engine/imputation/base_imputer.py\", line 63, in transform\n",
      "    with pd.option_context(\"future.no_silent_downcasting\", True):\n",
      "  File \"/Users/apoltavets/anaconda3/lib/python3.10/site-packages/pandas/_config/config.py\", line 478, in __enter__\n",
      "  File \"/Users/apoltavets/anaconda3/lib/python3.10/site-packages/pandas/_config/config.py\", line 478, in <listcomp>\n",
      "  File \"/Users/apoltavets/anaconda3/lib/python3.10/site-packages/pandas/_config/config.py\", line 146, in _get_option\n",
      "    key = _get_single_key(pat, silent)\n",
      "  File \"/Users/apoltavets/anaconda3/lib/python3.10/site-packages/pandas/_config/config.py\", line 132, in _get_single_key\n",
      "    raise OptionError(f\"No such keys(s): {repr(pat)}\")\n",
      "pandas._config.config.OptionError: No such keys(s): 'future.no_silent_downcasting'\n",
      "\n",
      "During handling of the above exception, another exception occurred:\n",
      "\n",
      "Traceback (most recent call last):\n",
      "  File \"/Users/apoltavets/anaconda3/lib/python3.10/site-packages/IPython/core/interactiveshell.py\", line 2057, in showtraceback\n",
      "    stb = self.InteractiveTB.structured_traceback(\n",
      "  File \"/Users/apoltavets/anaconda3/lib/python3.10/site-packages/IPython/core/ultratb.py\", line 1118, in structured_traceback\n",
      "    return FormattedTB.structured_traceback(\n",
      "  File \"/Users/apoltavets/anaconda3/lib/python3.10/site-packages/IPython/core/ultratb.py\", line 1012, in structured_traceback\n",
      "    return VerboseTB.structured_traceback(\n",
      "  File \"/Users/apoltavets/anaconda3/lib/python3.10/site-packages/IPython/core/ultratb.py\", line 865, in structured_traceback\n",
      "    formatted_exception = self.format_exception_as_a_whole(etype, evalue, etb, number_of_lines_of_context,\n",
      "  File \"/Users/apoltavets/anaconda3/lib/python3.10/site-packages/IPython/core/ultratb.py\", line 818, in format_exception_as_a_whole\n",
      "    frames.append(self.format_record(r))\n",
      "  File \"/Users/apoltavets/anaconda3/lib/python3.10/site-packages/IPython/core/ultratb.py\", line 736, in format_record\n",
      "    result += ''.join(_format_traceback_lines(frame_info.lines, Colors, self.has_colors, lvals))\n",
      "  File \"/Users/apoltavets/anaconda3/lib/python3.10/site-packages/stack_data/utils.py\", line 145, in cached_property_wrapper\n",
      "    value = obj.__dict__[self.func.__name__] = self.func(obj)\n",
      "  File \"/Users/apoltavets/anaconda3/lib/python3.10/site-packages/stack_data/core.py\", line 698, in lines\n",
      "    pieces = self.included_pieces\n",
      "  File \"/Users/apoltavets/anaconda3/lib/python3.10/site-packages/stack_data/utils.py\", line 145, in cached_property_wrapper\n",
      "    value = obj.__dict__[self.func.__name__] = self.func(obj)\n",
      "  File \"/Users/apoltavets/anaconda3/lib/python3.10/site-packages/stack_data/core.py\", line 649, in included_pieces\n",
      "    pos = scope_pieces.index(self.executing_piece)\n",
      "  File \"/Users/apoltavets/anaconda3/lib/python3.10/site-packages/stack_data/utils.py\", line 145, in cached_property_wrapper\n",
      "    value = obj.__dict__[self.func.__name__] = self.func(obj)\n",
      "  File \"/Users/apoltavets/anaconda3/lib/python3.10/site-packages/stack_data/core.py\", line 628, in executing_piece\n",
      "    return only(\n",
      "  File \"/Users/apoltavets/anaconda3/lib/python3.10/site-packages/executing/executing.py\", line 164, in only\n",
      "    raise NotOneValueFound('Expected one value, found 0')\n",
      "executing.executing.NotOneValueFound: Expected one value, found 0\n"
     ]
    }
   ],
   "source": [
    "from feature_engine.imputation import MeanMedianImputer\n",
    "mni = MeanMedianImputer(imputation_method=\"median\")\n",
    "mni.fit_transform(df)\n"
   ],
   "metadata": {
    "collapsed": false,
    "ExecuteTime": {
     "end_time": "2025-05-05T01:28:37.295886Z",
     "start_time": "2025-05-05T01:28:37.170070Z"
    }
   },
   "id": "a25dc0059a52bc48"
  },
  {
   "cell_type": "code",
   "execution_count": null,
   "outputs": [],
   "source": [
    "mni.imputer_dict_"
   ],
   "metadata": {
    "collapsed": false,
    "ExecuteTime": {
     "start_time": "2025-05-05T01:28:37.245793Z"
    }
   },
   "id": "3a684b7ac4da25d9"
  },
  {
   "cell_type": "code",
   "execution_count": null,
   "outputs": [],
   "source": [
    "df1 = mni.transform(df)"
   ],
   "metadata": {
    "collapsed": false,
    "ExecuteTime": {
     "start_time": "2025-05-05T01:28:37.248841Z"
    }
   },
   "id": "30e6b930e412fd"
  },
  {
   "cell_type": "code",
   "execution_count": null,
   "outputs": [],
   "source": [
    "import matplotlib.pyplot as plt\n",
    "import seaborn as sns\n",
    "\n",
    "fig, axes = plt.subplots(nrows=2, ncols=3, figsize=(30,15))\n",
    "sns.distplot(df['MntWines'], ax=axes[0, 0])\n",
    "sns.distplot(df['MntFruits'], ax=axes[0,1])\n",
    "sns.distplot(df['MntMeatProducts'], ax=axes[0,2])\n",
    "sns.distplot(df['MntFishProducts'], ax=axes[1, 0])\n",
    "sns.distplot(df['MntSweetProducts'], ax=axes[1,1])\n",
    "sns.distplot(df['MntGoldProds'], ax=axes[1,2])\n",
    "\n",
    "plt.show()\n"
   ],
   "metadata": {
    "collapsed": false,
    "ExecuteTime": {
     "start_time": "2025-05-05T01:28:37.253978Z"
    }
   },
   "id": "b8e99b5d3625c8f2"
  },
  {
   "cell_type": "code",
   "execution_count": null,
   "outputs": [],
   "source": [
    "import seaborn as sns\n",
    "sns.set_style(\"whitegrid\")\n",
    "plt.figure(figsize=(1, 3))\n",
    "\n",
    "fig, axes = plt.subplots(ncols=6, figsize=(18,9))\n",
    "sns.boxplot(df['MntWines'], ax=axes[0])\n",
    "sns.boxplot(df['MntFruits'], ax=axes[1])\n",
    "sns.boxplot(df['MntMeatProducts'], ax=axes[2])\n",
    "sns.boxplot(df['MntFishProducts'], ax=axes[3])\n",
    "sns.boxplot(df['MntSweetProducts'], ax=axes[4])\n",
    "sns.boxplot(df['MntGoldProds'], ax=axes[5])"
   ],
   "metadata": {
    "collapsed": false,
    "ExecuteTime": {
     "start_time": "2025-05-05T01:28:37.258773Z"
    }
   },
   "id": "53a6abfa6f72286f"
  },
  {
   "cell_type": "markdown",
   "source": [],
   "metadata": {
    "collapsed": false
   },
   "id": "909abef14f262abc"
  },
  {
   "cell_type": "markdown",
   "source": [
    "#### ![](data/7611621.png)  &nbsp;&nbsp;   Analysis Notes: \n",
    "\n",
    "*__MntWines, MntFruits, MntMeatProducts, MntFishProducts, MntSweetProducts, MntGoldProds__: data is left skewed*\n",
    "*__MntMeatProducts__: data has outliers with spends more than ~1500 for meet*\n",
    "*__MntSweetProducts__: data has outliers with spends more than ~250 for sweets*\n"
   ],
   "metadata": {
    "collapsed": false
   },
   "id": "137e9e43fed65ed1"
  },
  {
   "cell_type": "code",
   "execution_count": null,
   "outputs": [],
   "source": [
    "import matplotlib.pyplot as plt\n",
    "import seaborn as sns\n",
    "\n",
    "fig, axes = plt.subplots(nrows=2, figsize=(10,15))\n",
    "sns.distplot(df['Year_Birth'], ax=axes[0])\n",
    "sns.distplot(df['Income'], ax=axes[1])\n",
    "\n",
    "plt.show()"
   ],
   "metadata": {
    "collapsed": false,
    "ExecuteTime": {
     "start_time": "2025-05-05T01:28:37.262724Z"
    }
   },
   "id": "b3ae2497808e83d"
  },
  {
   "cell_type": "code",
   "execution_count": null,
   "outputs": [],
   "source": [
    "import seaborn as sns\n",
    "sns.set_style(\"whitegrid\")\n",
    "plt.figure(figsize=(1, 3))\n",
    "\n",
    "fig, axes = plt.subplots(ncols=2, figsize=(10,6))\n",
    "sns.boxplot(df['Year_Birth'], ax=axes[0])\n",
    "sns.boxplot(df['Income'], ax=axes[1])"
   ],
   "metadata": {
    "collapsed": false,
    "ExecuteTime": {
     "start_time": "2025-05-05T01:28:37.266019Z"
    }
   },
   "id": "9c8f479c3874232c"
  },
  {
   "cell_type": "markdown",
   "source": [
    "#### ![](data/7611621.png)  &nbsp;&nbsp;   Analysis Notes: \n",
    "\n",
    "*__Year_Birth__: has outliers, data looks biased as we have more clients birth between 1970s and 1980s, which may reflect the country's population distribution*\n",
    "\n",
    "*__Income__:  has outlier above 600 000, but *"
   ],
   "metadata": {
    "collapsed": false
   },
   "id": "bef177ca7367041b"
  },
  {
   "cell_type": "code",
   "execution_count": null,
   "outputs": [],
   "source": [
    "df[df['Year_Birth']< 1920].head()"
   ],
   "metadata": {
    "collapsed": false,
    "ExecuteTime": {
     "start_time": "2025-05-05T01:28:37.269893Z"
    }
   },
   "id": "3fce7d1bded90bef"
  },
  {
   "cell_type": "code",
   "execution_count": null,
   "outputs": [],
   "source": [
    "df[df['Income']> 600000].head()"
   ],
   "metadata": {
    "collapsed": false,
    "ExecuteTime": {
     "start_time": "2025-05-05T01:28:37.273969Z"
    }
   },
   "id": "5bcb15bf38f46809"
  },
  {
   "cell_type": "code",
   "execution_count": null,
   "outputs": [],
   "source": [],
   "metadata": {
    "collapsed": false,
    "ExecuteTime": {
     "start_time": "2025-05-05T01:28:37.276745Z"
    }
   },
   "id": "a2d722cb0755b928"
  },
  {
   "cell_type": "markdown",
   "source": [
    "\n",
    "2.2.1 Missing Values Analysis\n",
    "Let's first check for missing values in the dataset. Missing data can impact our analysis and modeling approaches."
   ],
   "metadata": {
    "collapsed": false
   },
   "id": "1cb815d537c6a472"
  },
  {
   "cell_type": "code",
   "execution_count": null,
   "outputs": [],
   "source": [],
   "metadata": {
    "collapsed": false,
    "ExecuteTime": {
     "start_time": "2025-05-05T01:28:37.279307Z"
    }
   },
   "id": "97ebe5ba4bcb403a"
  },
  {
   "cell_type": "code",
   "execution_count": null,
   "outputs": [],
   "source": [
    "\n",
    "\n",
    "# Visualize missing values\n",
    "plt.figure(figsize=(12, 6))\n",
    "sns.heatmap(df.isnull(), yticklabels=False, cbar=False, cmap='viridis')\n",
    "plt.title('Missing Value Heatmap')\n",
    "plt.tight_layout()\n",
    "plt.show()\n",
    "\n",
    "# Summary of completeness\n",
    "print(\"\\nCompleteness Analysis:\")\n",
    "print(f\"Total number of cells in the dataset: {df.size}\")\n",
    "print(f\"Total number of missing values: {df.isnull().sum().sum()}\")\n",
    "print(f\"Percentage of missing data: {(df.isnull().sum().sum() / df.size * 100).round(2)}%\")"
   ],
   "metadata": {
    "collapsed": false,
    "ExecuteTime": {
     "start_time": "2025-05-05T01:28:37.281272Z"
    }
   },
   "id": "a55050b1533ef159"
  },
  {
   "cell_type": "code",
   "execution_count": null,
   "outputs": [],
   "source": [],
   "metadata": {
    "collapsed": false,
    "ExecuteTime": {
     "start_time": "2025-05-05T01:28:37.283656Z"
    }
   },
   "id": "eb12573f3bad0362"
  }
 ],
 "metadata": {
  "kernelspec": {
   "display_name": "Python 3",
   "language": "python",
   "name": "python3"
  },
  "language_info": {
   "codemirror_mode": {
    "name": "ipython",
    "version": 2
   },
   "file_extension": ".py",
   "mimetype": "text/x-python",
   "name": "python",
   "nbconvert_exporter": "python",
   "pygments_lexer": "ipython2",
   "version": "2.7.6"
  }
 },
 "nbformat": 4,
 "nbformat_minor": 5
}
