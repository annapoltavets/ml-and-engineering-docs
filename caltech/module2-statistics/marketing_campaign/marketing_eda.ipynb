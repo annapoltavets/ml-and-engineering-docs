{
 "cells": [
  {
   "cell_type": "markdown",
   "source": [
    "# Marketing Campaigns\n",
    "\n",
    "\n",
    "## 1. Business Understanding\n",
    "\n",
    "### Problem scenario: \n",
    "Marketing mix stands as a widely utilized concept in the execution of marketing strategies. It encompasses various facets within a comprehensive marketing plan, with a central focus on the four Ps of marketing: product, price, place, and promotion.\n",
    "\n",
    "### Problem objective:\n",
    "As a data scientist, you must conduct exploratory data analysis and hypothesis testing to enhance your comprehension of the diverse factors influencing customer acquisition.\n",
    "\n",
    "Data description:\n",
    "The variables such as birth year, education, income, and others pertain to the first 'P' or 'People' in the tabular data presented to the user. The expenditures on items like wine, fruits, and gold, are associated with ‘Product’. Information relevant to sales channels, such as websites and stores, is connected to ‘Place’, and the fields discussing promotions and the outcomes of various campaigns are linked to ‘Promotion’.\n",
    "\n",
    "Steps to perform:\n",
    "\n",
    "\t•\tAfter importing the data, examine variables such as Dt_Customer and Income to verify their accurate importation.\n",
    "\n",
    "\t•\tThere are missing income values for some customers. Conduct missing value imputation, considering that customers with similar education and marital status tend to have comparable yearly incomes, on average. It may be necessary to cleanse the data before proceeding. Specifically, scrutinize the categories of education and marital status for data cleaning.\n",
    "\n",
    "\t•\tCreate variables to represent the total number of children, age, and total spending.\n",
    "\n",
    "\t•\tDerive the total purchases from the number of transactions across the three channels.\n",
    "\n",
    "\t•\tGenerate box plots and histograms to gain insights into the distributions and identify outliers. Implement outlier treatment as needed.\n",
    "\n",
    "\t•\tApply ordinal and one-hot encoding based on the various types of categorical variables.\n",
    "\n",
    "\t•\tGenerate a heatmap to illustrate the correlation between different pairs of variables.\n",
    "\n",
    "\t•\tTest the following hypotheses:\n",
    "\t•\tOlder individuals may not possess the same level of technological proficiency and may, therefore, lean toward traditional in-store shopping preferences.\n",
    "\t•\tCustomers with children likely experience time constraints, making online shopping a more convenient option.\n",
    "\t•\tSales at physical stores may face the risk of cannibalization by alternative distribution channels.\n",
    "\t•\tDoes the United States significantly outperform the rest of the world in total purchase volumes?\n",
    "\n",
    "\n",
    "\t•\tUse appropriate visualization to help analyze the following:\n",
    "\t•\tIdentify the top-performing products and those with the lowest revenue.\n",
    "\t•\tExamine if there is a correlation between customers' age and the acceptance rate of the last campaign.\n",
    "\t•\tDetermine the country with the highest number of customers who accepted the last campaign.\n",
    "\t•\tInvestigate if there is a discernible pattern in the number of children at home and the total expenditure.\n",
    "\t•\tAnalyze the educational background of customers who lodged complaints in the last two years.\n",
    "\n"
   ],
   "metadata": {
    "collapsed": false
   },
   "id": "a158550f71e155fd"
  },
  {
   "cell_type": "markdown",
   "source": [],
   "metadata": {
    "collapsed": false
   },
   "id": "13d7de50de57eddf"
  },
  {
   "cell_type": "markdown",
   "source": [
    "### Dataset Overview"
   ],
   "metadata": {
    "collapsed": false
   },
   "id": "29afcf1d0f4c0a14"
  },
  {
   "cell_type": "code",
   "execution_count": 16,
   "id": "initial_id",
   "metadata": {
    "collapsed": true,
    "ExecuteTime": {
     "end_time": "2025-04-14T04:40:37.244080Z",
     "start_time": "2025-04-14T04:40:37.210392Z"
    }
   },
   "outputs": [
    {
     "ename": "ModuleNotFoundError",
     "evalue": "No module named 'matplotlib'",
     "output_type": "error",
     "traceback": [
      "\u001B[0;31m---------------------------------------------------------------------------\u001B[0m",
      "\u001B[0;31mModuleNotFoundError\u001B[0m                       Traceback (most recent call last)",
      "Cell \u001B[0;32mIn[16], line 3\u001B[0m\n\u001B[1;32m      1\u001B[0m \u001B[38;5;28;01mimport\u001B[39;00m \u001B[38;5;21;01mnumpy\u001B[39;00m \u001B[38;5;28;01mas\u001B[39;00m \u001B[38;5;21;01mnp\u001B[39;00m\n\u001B[1;32m      2\u001B[0m \u001B[38;5;28;01mimport\u001B[39;00m \u001B[38;5;21;01mpandas\u001B[39;00m \u001B[38;5;28;01mas\u001B[39;00m \u001B[38;5;21;01mpd\u001B[39;00m\n\u001B[0;32m----> 3\u001B[0m \u001B[38;5;28;01mimport\u001B[39;00m \u001B[38;5;21;01mmatplotlib\u001B[39;00m\u001B[38;5;21;01m.\u001B[39;00m\u001B[38;5;21;01mpyplot\u001B[39;00m \u001B[38;5;28;01mas\u001B[39;00m \u001B[38;5;21;01mplt\u001B[39;00m\n\u001B[1;32m      4\u001B[0m \u001B[38;5;28;01mimport\u001B[39;00m \u001B[38;5;21;01mseaborn\u001B[39;00m \u001B[38;5;28;01mas\u001B[39;00m \u001B[38;5;21;01msns\u001B[39;00m\n\u001B[1;32m      5\u001B[0m \u001B[38;5;28;01mfrom\u001B[39;00m \u001B[38;5;21;01mscipy\u001B[39;00m \u001B[38;5;28;01mimport\u001B[39;00m stats\n",
      "\u001B[0;31mModuleNotFoundError\u001B[0m: No module named 'matplotlib'"
     ]
    }
   ],
   "source": [
    "import numpy as np\n",
    "import pandas as pd\n",
    "import matplotlib.pyplot as plt\n",
    "import seaborn as sns\n",
    "from scipy import stats\n",
    "import warnings\n",
    "warnings.filterwarnings('ignore')\n",
    "\n",
    "# For better visualizations\n",
    "plt.style.use('ggplot')\n",
    "sns.set(style=\"whitegrid\")\n",
    "\n",
    "\n",
    "df = pd.read_csv(\"data/1736837301_datasets/marketing_data.csv\")\n",
    "\n",
    "# Display basic information\n",
    "print(f\"Dataset Shape: {df.shape}\")\n",
    "df.info(memory_usage=\"deep\")"
   ]
  },
  {
   "cell_type": "code",
   "execution_count": 12,
   "outputs": [
    {
     "name": "stdout",
     "output_type": "stream",
     "text": [
      "Summary Statistics for Categorical Variables:\n"
     ]
    },
    {
     "data": {
      "text/plain": "               count unique         top  freq\nEducation       2240      5  Graduation  1127\nMarital_Status  2240      8     Married   864\n Income         2216   1974  $7,500.00     12\nDt_Customer     2240    663     8/31/12    12\nCountry         2240      8          SP  1095",
      "text/html": "<div>\n<style scoped>\n    .dataframe tbody tr th:only-of-type {\n        vertical-align: middle;\n    }\n\n    .dataframe tbody tr th {\n        vertical-align: top;\n    }\n\n    .dataframe thead th {\n        text-align: right;\n    }\n</style>\n<table border=\"1\" class=\"dataframe\">\n  <thead>\n    <tr style=\"text-align: right;\">\n      <th></th>\n      <th>count</th>\n      <th>unique</th>\n      <th>top</th>\n      <th>freq</th>\n    </tr>\n  </thead>\n  <tbody>\n    <tr>\n      <th>Education</th>\n      <td>2240</td>\n      <td>5</td>\n      <td>Graduation</td>\n      <td>1127</td>\n    </tr>\n    <tr>\n      <th>Marital_Status</th>\n      <td>2240</td>\n      <td>8</td>\n      <td>Married</td>\n      <td>864</td>\n    </tr>\n    <tr>\n      <th>Income</th>\n      <td>2216</td>\n      <td>1974</td>\n      <td>$7,500.00</td>\n      <td>12</td>\n    </tr>\n    <tr>\n      <th>Dt_Customer</th>\n      <td>2240</td>\n      <td>663</td>\n      <td>8/31/12</td>\n      <td>12</td>\n    </tr>\n    <tr>\n      <th>Country</th>\n      <td>2240</td>\n      <td>8</td>\n      <td>SP</td>\n      <td>1095</td>\n    </tr>\n  </tbody>\n</table>\n</div>"
     },
     "execution_count": 12,
     "metadata": {},
     "output_type": "execute_result"
    }
   ],
   "source": [
    "# Display basic statistics for numerical columns\n",
    "print(\"Summary Statistics for Categorical Variables:\")\n",
    "df.describe(include='O').T"
   ],
   "metadata": {
    "collapsed": false,
    "ExecuteTime": {
     "end_time": "2025-04-14T03:47:41.584031Z",
     "start_time": "2025-04-14T03:47:41.559645Z"
    }
   },
   "id": "19438da94f3e4afe"
  },
  {
   "cell_type": "code",
   "execution_count": 10,
   "outputs": [
    {
     "name": "stdout",
     "output_type": "stream",
     "text": [
      "<class 'pandas.core.frame.DataFrame'>\n",
      "RangeIndex: 2240 entries, 0 to 2239\n",
      "Data columns (total 28 columns):\n",
      " #   Column               Non-Null Count  Dtype \n",
      "---  ------               --------------  ----- \n",
      " 0   ID                   2240 non-null   int64 \n",
      " 1   Year_Birth           2240 non-null   int64 \n",
      " 2   Education            2240 non-null   object\n",
      " 3   Marital_Status       2240 non-null   object\n",
      " 4    Income              2216 non-null   object\n",
      " 5   Kidhome              2240 non-null   int64 \n",
      " 6   Teenhome             2240 non-null   int64 \n",
      " 7   Dt_Customer          2240 non-null   object\n",
      " 8   Recency              2240 non-null   int64 \n",
      " 9   MntWines             2240 non-null   int64 \n",
      " 10  MntFruits            2240 non-null   int64 \n",
      " 11  MntMeatProducts      2240 non-null   int64 \n",
      " 12  MntFishProducts      2240 non-null   int64 \n",
      " 13  MntSweetProducts     2240 non-null   int64 \n",
      " 14  MntGoldProds         2240 non-null   int64 \n",
      " 15  NumDealsPurchases    2240 non-null   int64 \n",
      " 16  NumWebPurchases      2240 non-null   int64 \n",
      " 17  NumCatalogPurchases  2240 non-null   int64 \n",
      " 18  NumStorePurchases    2240 non-null   int64 \n",
      " 19  NumWebVisitsMonth    2240 non-null   int64 \n",
      " 20  AcceptedCmp3         2240 non-null   int64 \n",
      " 21  AcceptedCmp4         2240 non-null   int64 \n",
      " 22  AcceptedCmp5         2240 non-null   int64 \n",
      " 23  AcceptedCmp1         2240 non-null   int64 \n",
      " 24  AcceptedCmp2         2240 non-null   int64 \n",
      " 25  Response             2240 non-null   int64 \n",
      " 26  Complain             2240 non-null   int64 \n",
      " 27  Country              2240 non-null   object\n",
      "dtypes: int64(23), object(5)\n",
      "memory usage: 490.1+ KB\n"
     ]
    }
   ],
   "source": [
    "df['Education'].astype(\"string\")\n",
    "\n",
    "df.info()"
   ],
   "metadata": {
    "collapsed": false,
    "ExecuteTime": {
     "end_time": "2025-04-14T03:06:56.531950Z",
     "start_time": "2025-04-14T03:06:56.521567Z"
    }
   },
   "id": "bf28b3974a8ae51d"
  },
  {
   "cell_type": "code",
   "execution_count": 6,
   "outputs": [
    {
     "data": {
      "text/plain": "                      count         mean          std     min      25%  \\\nID                   2240.0  5592.159821  3246.662198     0.0  2828.25   \nYear_Birth           2240.0  1968.805804    11.984069  1893.0  1959.00   \nKidhome              2240.0     0.444196     0.538398     0.0     0.00   \nTeenhome             2240.0     0.506250     0.544538     0.0     0.00   \nRecency              2240.0    49.109375    28.962453     0.0    24.00   \nMntWines             2240.0   303.935714   336.597393     0.0    23.75   \nMntFruits            2240.0    26.302232    39.773434     0.0     1.00   \nMntMeatProducts      2240.0   166.950000   225.715373     0.0    16.00   \nMntFishProducts      2240.0    37.525446    54.628979     0.0     3.00   \nMntSweetProducts     2240.0    27.062946    41.280498     0.0     1.00   \nMntGoldProds         2240.0    44.021875    52.167439     0.0     9.00   \nNumDealsPurchases    2240.0     2.325000     1.932238     0.0     1.00   \nNumWebPurchases      2240.0     4.084821     2.778714     0.0     2.00   \nNumCatalogPurchases  2240.0     2.662054     2.923101     0.0     0.00   \nNumStorePurchases    2240.0     5.790179     3.250958     0.0     3.00   \nNumWebVisitsMonth    2240.0     5.316518     2.426645     0.0     3.00   \nAcceptedCmp3         2240.0     0.072768     0.259813     0.0     0.00   \nAcceptedCmp4         2240.0     0.074554     0.262728     0.0     0.00   \nAcceptedCmp5         2240.0     0.072768     0.259813     0.0     0.00   \nAcceptedCmp1         2240.0     0.064286     0.245316     0.0     0.00   \nAcceptedCmp2         2240.0     0.013393     0.114976     0.0     0.00   \nResponse             2240.0     0.149107     0.356274     0.0     0.00   \nComplain             2240.0     0.009375     0.096391     0.0     0.00   \n\n                        50%      75%      max  \nID                   5458.5  8427.75  11191.0  \nYear_Birth           1970.0  1977.00   1996.0  \nKidhome                 0.0     1.00      2.0  \nTeenhome                0.0     1.00      2.0  \nRecency                49.0    74.00     99.0  \nMntWines              173.5   504.25   1493.0  \nMntFruits               8.0    33.00    199.0  \nMntMeatProducts        67.0   232.00   1725.0  \nMntFishProducts        12.0    50.00    259.0  \nMntSweetProducts        8.0    33.00    263.0  \nMntGoldProds           24.0    56.00    362.0  \nNumDealsPurchases       2.0     3.00     15.0  \nNumWebPurchases         4.0     6.00     27.0  \nNumCatalogPurchases     2.0     4.00     28.0  \nNumStorePurchases       5.0     8.00     13.0  \nNumWebVisitsMonth       6.0     7.00     20.0  \nAcceptedCmp3            0.0     0.00      1.0  \nAcceptedCmp4            0.0     0.00      1.0  \nAcceptedCmp5            0.0     0.00      1.0  \nAcceptedCmp1            0.0     0.00      1.0  \nAcceptedCmp2            0.0     0.00      1.0  \nResponse                0.0     0.00      1.0  \nComplain                0.0     0.00      1.0  ",
      "text/html": "<div>\n<style scoped>\n    .dataframe tbody tr th:only-of-type {\n        vertical-align: middle;\n    }\n\n    .dataframe tbody tr th {\n        vertical-align: top;\n    }\n\n    .dataframe thead th {\n        text-align: right;\n    }\n</style>\n<table border=\"1\" class=\"dataframe\">\n  <thead>\n    <tr style=\"text-align: right;\">\n      <th></th>\n      <th>count</th>\n      <th>mean</th>\n      <th>std</th>\n      <th>min</th>\n      <th>25%</th>\n      <th>50%</th>\n      <th>75%</th>\n      <th>max</th>\n    </tr>\n  </thead>\n  <tbody>\n    <tr>\n      <th>ID</th>\n      <td>2240.0</td>\n      <td>5592.159821</td>\n      <td>3246.662198</td>\n      <td>0.0</td>\n      <td>2828.25</td>\n      <td>5458.5</td>\n      <td>8427.75</td>\n      <td>11191.0</td>\n    </tr>\n    <tr>\n      <th>Year_Birth</th>\n      <td>2240.0</td>\n      <td>1968.805804</td>\n      <td>11.984069</td>\n      <td>1893.0</td>\n      <td>1959.00</td>\n      <td>1970.0</td>\n      <td>1977.00</td>\n      <td>1996.0</td>\n    </tr>\n    <tr>\n      <th>Kidhome</th>\n      <td>2240.0</td>\n      <td>0.444196</td>\n      <td>0.538398</td>\n      <td>0.0</td>\n      <td>0.00</td>\n      <td>0.0</td>\n      <td>1.00</td>\n      <td>2.0</td>\n    </tr>\n    <tr>\n      <th>Teenhome</th>\n      <td>2240.0</td>\n      <td>0.506250</td>\n      <td>0.544538</td>\n      <td>0.0</td>\n      <td>0.00</td>\n      <td>0.0</td>\n      <td>1.00</td>\n      <td>2.0</td>\n    </tr>\n    <tr>\n      <th>Recency</th>\n      <td>2240.0</td>\n      <td>49.109375</td>\n      <td>28.962453</td>\n      <td>0.0</td>\n      <td>24.00</td>\n      <td>49.0</td>\n      <td>74.00</td>\n      <td>99.0</td>\n    </tr>\n    <tr>\n      <th>MntWines</th>\n      <td>2240.0</td>\n      <td>303.935714</td>\n      <td>336.597393</td>\n      <td>0.0</td>\n      <td>23.75</td>\n      <td>173.5</td>\n      <td>504.25</td>\n      <td>1493.0</td>\n    </tr>\n    <tr>\n      <th>MntFruits</th>\n      <td>2240.0</td>\n      <td>26.302232</td>\n      <td>39.773434</td>\n      <td>0.0</td>\n      <td>1.00</td>\n      <td>8.0</td>\n      <td>33.00</td>\n      <td>199.0</td>\n    </tr>\n    <tr>\n      <th>MntMeatProducts</th>\n      <td>2240.0</td>\n      <td>166.950000</td>\n      <td>225.715373</td>\n      <td>0.0</td>\n      <td>16.00</td>\n      <td>67.0</td>\n      <td>232.00</td>\n      <td>1725.0</td>\n    </tr>\n    <tr>\n      <th>MntFishProducts</th>\n      <td>2240.0</td>\n      <td>37.525446</td>\n      <td>54.628979</td>\n      <td>0.0</td>\n      <td>3.00</td>\n      <td>12.0</td>\n      <td>50.00</td>\n      <td>259.0</td>\n    </tr>\n    <tr>\n      <th>MntSweetProducts</th>\n      <td>2240.0</td>\n      <td>27.062946</td>\n      <td>41.280498</td>\n      <td>0.0</td>\n      <td>1.00</td>\n      <td>8.0</td>\n      <td>33.00</td>\n      <td>263.0</td>\n    </tr>\n    <tr>\n      <th>MntGoldProds</th>\n      <td>2240.0</td>\n      <td>44.021875</td>\n      <td>52.167439</td>\n      <td>0.0</td>\n      <td>9.00</td>\n      <td>24.0</td>\n      <td>56.00</td>\n      <td>362.0</td>\n    </tr>\n    <tr>\n      <th>NumDealsPurchases</th>\n      <td>2240.0</td>\n      <td>2.325000</td>\n      <td>1.932238</td>\n      <td>0.0</td>\n      <td>1.00</td>\n      <td>2.0</td>\n      <td>3.00</td>\n      <td>15.0</td>\n    </tr>\n    <tr>\n      <th>NumWebPurchases</th>\n      <td>2240.0</td>\n      <td>4.084821</td>\n      <td>2.778714</td>\n      <td>0.0</td>\n      <td>2.00</td>\n      <td>4.0</td>\n      <td>6.00</td>\n      <td>27.0</td>\n    </tr>\n    <tr>\n      <th>NumCatalogPurchases</th>\n      <td>2240.0</td>\n      <td>2.662054</td>\n      <td>2.923101</td>\n      <td>0.0</td>\n      <td>0.00</td>\n      <td>2.0</td>\n      <td>4.00</td>\n      <td>28.0</td>\n    </tr>\n    <tr>\n      <th>NumStorePurchases</th>\n      <td>2240.0</td>\n      <td>5.790179</td>\n      <td>3.250958</td>\n      <td>0.0</td>\n      <td>3.00</td>\n      <td>5.0</td>\n      <td>8.00</td>\n      <td>13.0</td>\n    </tr>\n    <tr>\n      <th>NumWebVisitsMonth</th>\n      <td>2240.0</td>\n      <td>5.316518</td>\n      <td>2.426645</td>\n      <td>0.0</td>\n      <td>3.00</td>\n      <td>6.0</td>\n      <td>7.00</td>\n      <td>20.0</td>\n    </tr>\n    <tr>\n      <th>AcceptedCmp3</th>\n      <td>2240.0</td>\n      <td>0.072768</td>\n      <td>0.259813</td>\n      <td>0.0</td>\n      <td>0.00</td>\n      <td>0.0</td>\n      <td>0.00</td>\n      <td>1.0</td>\n    </tr>\n    <tr>\n      <th>AcceptedCmp4</th>\n      <td>2240.0</td>\n      <td>0.074554</td>\n      <td>0.262728</td>\n      <td>0.0</td>\n      <td>0.00</td>\n      <td>0.0</td>\n      <td>0.00</td>\n      <td>1.0</td>\n    </tr>\n    <tr>\n      <th>AcceptedCmp5</th>\n      <td>2240.0</td>\n      <td>0.072768</td>\n      <td>0.259813</td>\n      <td>0.0</td>\n      <td>0.00</td>\n      <td>0.0</td>\n      <td>0.00</td>\n      <td>1.0</td>\n    </tr>\n    <tr>\n      <th>AcceptedCmp1</th>\n      <td>2240.0</td>\n      <td>0.064286</td>\n      <td>0.245316</td>\n      <td>0.0</td>\n      <td>0.00</td>\n      <td>0.0</td>\n      <td>0.00</td>\n      <td>1.0</td>\n    </tr>\n    <tr>\n      <th>AcceptedCmp2</th>\n      <td>2240.0</td>\n      <td>0.013393</td>\n      <td>0.114976</td>\n      <td>0.0</td>\n      <td>0.00</td>\n      <td>0.0</td>\n      <td>0.00</td>\n      <td>1.0</td>\n    </tr>\n    <tr>\n      <th>Response</th>\n      <td>2240.0</td>\n      <td>0.149107</td>\n      <td>0.356274</td>\n      <td>0.0</td>\n      <td>0.00</td>\n      <td>0.0</td>\n      <td>0.00</td>\n      <td>1.0</td>\n    </tr>\n    <tr>\n      <th>Complain</th>\n      <td>2240.0</td>\n      <td>0.009375</td>\n      <td>0.096391</td>\n      <td>0.0</td>\n      <td>0.00</td>\n      <td>0.0</td>\n      <td>0.00</td>\n      <td>1.0</td>\n    </tr>\n  </tbody>\n</table>\n</div>"
     },
     "execution_count": 6,
     "metadata": {},
     "output_type": "execute_result"
    }
   ],
   "source": [
    "df.describe().T"
   ],
   "metadata": {
    "collapsed": false,
    "ExecuteTime": {
     "end_time": "2025-04-14T02:48:16.942545Z",
     "start_time": "2025-04-14T02:48:16.854517Z"
    }
   },
   "id": "5e9dbe9759bf49d7"
  },
  {
   "cell_type": "code",
   "execution_count": 14,
   "outputs": [
    {
     "ename": "TypeError",
     "evalue": "Cannot interpret '0' as a data type",
     "output_type": "error",
     "traceback": [
      "\u001B[0;31m---------------------------------------------------------------------------\u001B[0m",
      "\u001B[0;31mTypeError\u001B[0m                                 Traceback (most recent call last)",
      "Cell \u001B[0;32mIn[14], line 1\u001B[0m\n\u001B[0;32m----> 1\u001B[0m \u001B[43mdf\u001B[49m\u001B[38;5;241;43m.\u001B[39;49m\u001B[43mdescribe\u001B[49m\u001B[43m(\u001B[49m\u001B[43minclude\u001B[49m\u001B[38;5;241;43m=\u001B[39;49m\u001B[38;5;241;43m0\u001B[39;49m\u001B[43m)\u001B[49m\u001B[38;5;241m.\u001B[39mT\n",
      "File \u001B[0;32m/usr/local/lib/python3.9/site-packages/pandas/core/generic.py:10940\u001B[0m, in \u001B[0;36mNDFrame.describe\u001B[0;34m(self, percentiles, include, exclude, datetime_is_numeric)\u001B[0m\n\u001B[1;32m  10691\u001B[0m \u001B[38;5;129m@final\u001B[39m\n\u001B[1;32m  10692\u001B[0m \u001B[38;5;28;01mdef\u001B[39;00m \u001B[38;5;21mdescribe\u001B[39m(\n\u001B[1;32m  10693\u001B[0m     \u001B[38;5;28mself\u001B[39m: NDFrameT,\n\u001B[0;32m   (...)\u001B[0m\n\u001B[1;32m  10697\u001B[0m     datetime_is_numeric: bool_t \u001B[38;5;241m=\u001B[39m \u001B[38;5;28;01mFalse\u001B[39;00m,\n\u001B[1;32m  10698\u001B[0m ) \u001B[38;5;241m-\u001B[39m\u001B[38;5;241m>\u001B[39m NDFrameT:\n\u001B[1;32m  10699\u001B[0m     \u001B[38;5;124;03m\"\"\"\u001B[39;00m\n\u001B[1;32m  10700\u001B[0m \u001B[38;5;124;03m    Generate descriptive statistics.\u001B[39;00m\n\u001B[1;32m  10701\u001B[0m \n\u001B[0;32m   (...)\u001B[0m\n\u001B[1;32m  10938\u001B[0m \u001B[38;5;124;03m    max            NaN      3.0\u001B[39;00m\n\u001B[1;32m  10939\u001B[0m \u001B[38;5;124;03m    \"\"\"\u001B[39;00m\n\u001B[0;32m> 10940\u001B[0m     \u001B[38;5;28;01mreturn\u001B[39;00m \u001B[43mdescribe_ndframe\u001B[49m\u001B[43m(\u001B[49m\n\u001B[1;32m  10941\u001B[0m \u001B[43m        \u001B[49m\u001B[43mobj\u001B[49m\u001B[38;5;241;43m=\u001B[39;49m\u001B[38;5;28;43mself\u001B[39;49m\u001B[43m,\u001B[49m\n\u001B[1;32m  10942\u001B[0m \u001B[43m        \u001B[49m\u001B[43minclude\u001B[49m\u001B[38;5;241;43m=\u001B[39;49m\u001B[43minclude\u001B[49m\u001B[43m,\u001B[49m\n\u001B[1;32m  10943\u001B[0m \u001B[43m        \u001B[49m\u001B[43mexclude\u001B[49m\u001B[38;5;241;43m=\u001B[39;49m\u001B[43mexclude\u001B[49m\u001B[43m,\u001B[49m\n\u001B[1;32m  10944\u001B[0m \u001B[43m        \u001B[49m\u001B[43mdatetime_is_numeric\u001B[49m\u001B[38;5;241;43m=\u001B[39;49m\u001B[43mdatetime_is_numeric\u001B[49m\u001B[43m,\u001B[49m\n\u001B[1;32m  10945\u001B[0m \u001B[43m        \u001B[49m\u001B[43mpercentiles\u001B[49m\u001B[38;5;241;43m=\u001B[39;49m\u001B[43mpercentiles\u001B[49m\u001B[43m,\u001B[49m\n\u001B[1;32m  10946\u001B[0m \u001B[43m    \u001B[49m\u001B[43m)\u001B[49m\n",
      "File \u001B[0;32m/usr/local/lib/python3.9/site-packages/pandas/core/describe.py:101\u001B[0m, in \u001B[0;36mdescribe_ndframe\u001B[0;34m(obj, include, exclude, datetime_is_numeric, percentiles)\u001B[0m\n\u001B[1;32m     93\u001B[0m \u001B[38;5;28;01melse\u001B[39;00m:\n\u001B[1;32m     94\u001B[0m     describer \u001B[38;5;241m=\u001B[39m DataFrameDescriber(\n\u001B[1;32m     95\u001B[0m         obj\u001B[38;5;241m=\u001B[39mcast(\u001B[38;5;124m\"\u001B[39m\u001B[38;5;124mDataFrame\u001B[39m\u001B[38;5;124m\"\u001B[39m, obj),\n\u001B[1;32m     96\u001B[0m         include\u001B[38;5;241m=\u001B[39minclude,\n\u001B[1;32m     97\u001B[0m         exclude\u001B[38;5;241m=\u001B[39mexclude,\n\u001B[1;32m     98\u001B[0m         datetime_is_numeric\u001B[38;5;241m=\u001B[39mdatetime_is_numeric,\n\u001B[1;32m     99\u001B[0m     )\n\u001B[0;32m--> 101\u001B[0m result \u001B[38;5;241m=\u001B[39m \u001B[43mdescriber\u001B[49m\u001B[38;5;241;43m.\u001B[39;49m\u001B[43mdescribe\u001B[49m\u001B[43m(\u001B[49m\u001B[43mpercentiles\u001B[49m\u001B[38;5;241;43m=\u001B[39;49m\u001B[43mpercentiles\u001B[49m\u001B[43m)\u001B[49m\n\u001B[1;32m    102\u001B[0m \u001B[38;5;28;01mreturn\u001B[39;00m cast(NDFrameT, result)\n",
      "File \u001B[0;32m/usr/local/lib/python3.9/site-packages/pandas/core/describe.py:176\u001B[0m, in \u001B[0;36mDataFrameDescriber.describe\u001B[0;34m(self, percentiles)\u001B[0m\n\u001B[1;32m    175\u001B[0m \u001B[38;5;28;01mdef\u001B[39;00m \u001B[38;5;21mdescribe\u001B[39m(\u001B[38;5;28mself\u001B[39m, percentiles: Sequence[\u001B[38;5;28mfloat\u001B[39m] \u001B[38;5;241m|\u001B[39m np\u001B[38;5;241m.\u001B[39mndarray) \u001B[38;5;241m-\u001B[39m\u001B[38;5;241m>\u001B[39m DataFrame:\n\u001B[0;32m--> 176\u001B[0m     data \u001B[38;5;241m=\u001B[39m \u001B[38;5;28;43mself\u001B[39;49m\u001B[38;5;241;43m.\u001B[39;49m\u001B[43m_select_data\u001B[49m\u001B[43m(\u001B[49m\u001B[43m)\u001B[49m\n\u001B[1;32m    178\u001B[0m     ldesc: \u001B[38;5;28mlist\u001B[39m[Series] \u001B[38;5;241m=\u001B[39m []\n\u001B[1;32m    179\u001B[0m     \u001B[38;5;28;01mfor\u001B[39;00m _, series \u001B[38;5;129;01min\u001B[39;00m data\u001B[38;5;241m.\u001B[39mitems():\n",
      "File \u001B[0;32m/usr/local/lib/python3.9/site-packages/pandas/core/describe.py:208\u001B[0m, in \u001B[0;36mDataFrameDescriber._select_data\u001B[0;34m(self)\u001B[0m\n\u001B[1;32m    206\u001B[0m     data \u001B[38;5;241m=\u001B[39m \u001B[38;5;28mself\u001B[39m\u001B[38;5;241m.\u001B[39mobj\n\u001B[1;32m    207\u001B[0m \u001B[38;5;28;01melse\u001B[39;00m:\n\u001B[0;32m--> 208\u001B[0m     data \u001B[38;5;241m=\u001B[39m \u001B[38;5;28;43mself\u001B[39;49m\u001B[38;5;241;43m.\u001B[39;49m\u001B[43mobj\u001B[49m\u001B[38;5;241;43m.\u001B[39;49m\u001B[43mselect_dtypes\u001B[49m\u001B[43m(\u001B[49m\n\u001B[1;32m    209\u001B[0m \u001B[43m        \u001B[49m\u001B[43minclude\u001B[49m\u001B[38;5;241;43m=\u001B[39;49m\u001B[38;5;28;43mself\u001B[39;49m\u001B[38;5;241;43m.\u001B[39;49m\u001B[43minclude\u001B[49m\u001B[43m,\u001B[49m\n\u001B[1;32m    210\u001B[0m \u001B[43m        \u001B[49m\u001B[43mexclude\u001B[49m\u001B[38;5;241;43m=\u001B[39;49m\u001B[38;5;28;43mself\u001B[39;49m\u001B[38;5;241;43m.\u001B[39;49m\u001B[43mexclude\u001B[49m\u001B[43m,\u001B[49m\n\u001B[1;32m    211\u001B[0m \u001B[43m    \u001B[49m\u001B[43m)\u001B[49m\n\u001B[1;32m    212\u001B[0m \u001B[38;5;28;01mreturn\u001B[39;00m data\n",
      "File \u001B[0;32m/usr/local/lib/python3.9/site-packages/pandas/core/frame.py:4712\u001B[0m, in \u001B[0;36mDataFrame.select_dtypes\u001B[0;34m(self, include, exclude)\u001B[0m\n\u001B[1;32m   4709\u001B[0m             converted_dtypes\u001B[38;5;241m.\u001B[39mappend(infer_dtype_from_object(dtype))\n\u001B[1;32m   4710\u001B[0m     \u001B[38;5;28;01mreturn\u001B[39;00m \u001B[38;5;28mfrozenset\u001B[39m(converted_dtypes)\n\u001B[0;32m-> 4712\u001B[0m include \u001B[38;5;241m=\u001B[39m \u001B[43mcheck_int_infer_dtype\u001B[49m\u001B[43m(\u001B[49m\u001B[43minclude\u001B[49m\u001B[43m)\u001B[49m\n\u001B[1;32m   4713\u001B[0m exclude \u001B[38;5;241m=\u001B[39m check_int_infer_dtype(exclude)\n\u001B[1;32m   4715\u001B[0m \u001B[38;5;28;01mfor\u001B[39;00m dtypes \u001B[38;5;129;01min\u001B[39;00m (include, exclude):\n",
      "File \u001B[0;32m/usr/local/lib/python3.9/site-packages/pandas/core/frame.py:4709\u001B[0m, in \u001B[0;36mDataFrame.select_dtypes.<locals>.check_int_infer_dtype\u001B[0;34m(dtypes)\u001B[0m\n\u001B[1;32m   4707\u001B[0m         converted_dtypes\u001B[38;5;241m.\u001B[39mextend([np\u001B[38;5;241m.\u001B[39mfloat64, np\u001B[38;5;241m.\u001B[39mfloat32])\n\u001B[1;32m   4708\u001B[0m     \u001B[38;5;28;01melse\u001B[39;00m:\n\u001B[0;32m-> 4709\u001B[0m         converted_dtypes\u001B[38;5;241m.\u001B[39mappend(\u001B[43minfer_dtype_from_object\u001B[49m\u001B[43m(\u001B[49m\u001B[43mdtype\u001B[49m\u001B[43m)\u001B[49m)\n\u001B[1;32m   4710\u001B[0m \u001B[38;5;28;01mreturn\u001B[39;00m \u001B[38;5;28mfrozenset\u001B[39m(converted_dtypes)\n",
      "File \u001B[0;32m/usr/local/lib/python3.9/site-packages/pandas/core/dtypes/common.py:1696\u001B[0m, in \u001B[0;36minfer_dtype_from_object\u001B[0;34m(dtype)\u001B[0m\n\u001B[1;32m   1687\u001B[0m     \u001B[38;5;28;01mexcept\u001B[39;00m (\u001B[38;5;167;01mAttributeError\u001B[39;00m, \u001B[38;5;167;01mTypeError\u001B[39;00m):\n\u001B[1;32m   1688\u001B[0m         \u001B[38;5;66;03m# Handles cases like get_dtype(int) i.e.,\u001B[39;00m\n\u001B[1;32m   1689\u001B[0m         \u001B[38;5;66;03m# Python objects that are valid dtypes\u001B[39;00m\n\u001B[0;32m   (...)\u001B[0m\n\u001B[1;32m   1692\u001B[0m         \u001B[38;5;66;03m# TypeError handles the float16 type code of 'e'\u001B[39;00m\n\u001B[1;32m   1693\u001B[0m         \u001B[38;5;66;03m# further handle internal types\u001B[39;00m\n\u001B[1;32m   1694\u001B[0m         \u001B[38;5;28;01mpass\u001B[39;00m\n\u001B[0;32m-> 1696\u001B[0m \u001B[38;5;28;01mreturn\u001B[39;00m infer_dtype_from_object(\u001B[43mnp\u001B[49m\u001B[38;5;241;43m.\u001B[39;49m\u001B[43mdtype\u001B[49m\u001B[43m(\u001B[49m\u001B[43mdtype\u001B[49m\u001B[43m)\u001B[49m)\n",
      "\u001B[0;31mTypeError\u001B[0m: Cannot interpret '0' as a data type"
     ]
    }
   ],
   "source": [
    "df.describe(include=0).T"
   ],
   "metadata": {
    "collapsed": false,
    "ExecuteTime": {
     "end_time": "2025-04-14T03:55:47.699207Z",
     "start_time": "2025-04-14T03:55:47.594819Z"
    }
   },
   "id": "da5fcb2700d441d0"
  },
  {
   "cell_type": "markdown",
   "source": [
    "2.2 Data Quality Assessment\n",
    "Before drawing conclusions from the data, we need to assess its quality. Poor data quality can lead to inaccurate analysis and misleading insights.\n",
    "\n",
    "We'll assess four key dimensions of data quality:\n",
    "\n",
    "Completeness: Are there missing values?\n",
    "Correctness: Are there outliers, duplicates, or invalid values?\n",
    "Relevance: Are the variables distributed in a way that's useful for analysis?\n",
    "Trustworthiness: Are there inconsistencies between related variables? Are data sources reliable?\n",
    "2.2.1 Missing Values Analysis\n",
    "Let's first check for missing values in the dataset. Missing data can impact our analysis and modeling approaches."
   ],
   "metadata": {
    "collapsed": false
   },
   "id": "1cb815d537c6a472"
  },
  {
   "cell_type": "code",
   "execution_count": 17,
   "outputs": [
    {
     "name": "stdout",
     "output_type": "stream",
     "text": [
      "Missing Values Analysis:\n",
      "          Missing Values  Percentage\n",
      " Income               24        1.07\n"
     ]
    }
   ],
   "source": [
    "# Check for missing values\n",
    "missing_values = df.isnull().sum()\n",
    "missing_percentage = (missing_values / len(df)) * 100\n",
    "\n",
    "missing_df = pd.DataFrame({\n",
    "    'Missing Values': missing_values,\n",
    "    'Percentage': missing_percentage.round(2)\n",
    "})\n",
    "\n",
    "print(\"Missing Values Analysis:\")\n",
    "missing_values_filter = missing_df['Missing Values'] > 0\n",
    "print(missing_df[missing_values_filter].sort_values(by='Percentage', ascending=False))"
   ],
   "metadata": {
    "collapsed": false,
    "ExecuteTime": {
     "end_time": "2025-04-14T04:54:26.236960Z",
     "start_time": "2025-04-14T04:54:26.230637Z"
    }
   },
   "id": "97ebe5ba4bcb403a"
  },
  {
   "cell_type": "code",
   "execution_count": 15,
   "outputs": [
    {
     "name": "stdout",
     "output_type": "stream",
     "text": [
      "Missing Values Analysis:\n",
      "          Missing Values  Percentage\n",
      " Income               24        1.07\n"
     ]
    },
    {
     "ename": "NameError",
     "evalue": "name 'plt' is not defined",
     "output_type": "error",
     "traceback": [
      "\u001B[0;31m---------------------------------------------------------------------------\u001B[0m",
      "\u001B[0;31mNameError\u001B[0m                                 Traceback (most recent call last)",
      "Cell \u001B[0;32mIn[15], line 15\u001B[0m\n\u001B[1;32m     12\u001B[0m \u001B[38;5;28mprint\u001B[39m(missing_df[missing_values_filter]\u001B[38;5;241m.\u001B[39msort_values(by\u001B[38;5;241m=\u001B[39m\u001B[38;5;124m'\u001B[39m\u001B[38;5;124mPercentage\u001B[39m\u001B[38;5;124m'\u001B[39m, ascending\u001B[38;5;241m=\u001B[39m\u001B[38;5;28;01mFalse\u001B[39;00m))\n\u001B[1;32m     14\u001B[0m \u001B[38;5;66;03m# Visualize missing values\u001B[39;00m\n\u001B[0;32m---> 15\u001B[0m \u001B[43mplt\u001B[49m\u001B[38;5;241m.\u001B[39mfigure(figsize\u001B[38;5;241m=\u001B[39m(\u001B[38;5;241m12\u001B[39m, \u001B[38;5;241m6\u001B[39m))\n\u001B[1;32m     16\u001B[0m sns\u001B[38;5;241m.\u001B[39mheatmap(df\u001B[38;5;241m.\u001B[39misnull(), yticklabels\u001B[38;5;241m=\u001B[39m\u001B[38;5;28;01mFalse\u001B[39;00m, cbar\u001B[38;5;241m=\u001B[39m\u001B[38;5;28;01mFalse\u001B[39;00m, cmap\u001B[38;5;241m=\u001B[39m\u001B[38;5;124m'\u001B[39m\u001B[38;5;124mviridis\u001B[39m\u001B[38;5;124m'\u001B[39m)\n\u001B[1;32m     17\u001B[0m plt\u001B[38;5;241m.\u001B[39mtitle(\u001B[38;5;124m'\u001B[39m\u001B[38;5;124mMissing Value Heatmap\u001B[39m\u001B[38;5;124m'\u001B[39m)\n",
      "\u001B[0;31mNameError\u001B[0m: name 'plt' is not defined"
     ]
    }
   ],
   "source": [
    "\n",
    "\n",
    "# Visualize missing values\n",
    "plt.figure(figsize=(12, 6))\n",
    "sns.heatmap(df.isnull(), yticklabels=False, cbar=False, cmap='viridis')\n",
    "plt.title('Missing Value Heatmap')\n",
    "plt.tight_layout()\n",
    "plt.show()\n",
    "\n",
    "# Summary of completeness\n",
    "print(\"\\nCompleteness Analysis:\")\n",
    "print(f\"Total number of cells in the dataset: {df.size}\")\n",
    "print(f\"Total number of missing values: {df.isnull().sum().sum()}\")\n",
    "print(f\"Percentage of missing data: {(df.isnull().sum().sum() / df.size * 100).round(2)}%\")"
   ],
   "metadata": {
    "collapsed": false,
    "ExecuteTime": {
     "end_time": "2025-04-14T04:38:33.493735Z",
     "start_time": "2025-04-14T04:38:33.476553Z"
    }
   },
   "id": "a55050b1533ef159"
  },
  {
   "cell_type": "code",
   "execution_count": null,
   "outputs": [],
   "source": [],
   "metadata": {
    "collapsed": false
   },
   "id": "eb12573f3bad0362"
  }
 ],
 "metadata": {
  "kernelspec": {
   "display_name": "Python 3",
   "language": "python",
   "name": "python3"
  },
  "language_info": {
   "codemirror_mode": {
    "name": "ipython",
    "version": 2
   },
   "file_extension": ".py",
   "mimetype": "text/x-python",
   "name": "python",
   "nbconvert_exporter": "python",
   "pygments_lexer": "ipython2",
   "version": "2.7.6"
  }
 },
 "nbformat": 4,
 "nbformat_minor": 5
}
