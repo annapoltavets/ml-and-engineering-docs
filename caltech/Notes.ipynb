{
 "cells": [
  {
   "cell_type": "markdown",
   "source": [
    "# Useful links"
   ],
   "metadata": {
    "collapsed": false
   },
   "id": "efe8937d698421"
  },
  {
   "cell_type": "markdown",
   "source": [
    "## Python\n",
    "\n",
    "[Data to viz](https://www.data-to-viz.com/#contact)"
   ],
   "metadata": {
    "collapsed": false
   },
   "id": "661548161f32cc63"
  },
  {
   "cell_type": "markdown",
   "source": [
    "## "
   ],
   "metadata": {
    "collapsed": false
   },
   "id": "f282df6f80d6f643"
  },
  {
   "cell_type": "markdown",
   "source": [
    "## Feture Engineering\n",
    "\n",
    "[Feture Engine](https://feature-engine.trainindata.com/en/latest/#missing-data-imputation-imputers)"
   ],
   "metadata": {
    "collapsed": false
   },
   "id": "c1103c21c4928400"
  },
  {
   "cell_type": "markdown",
   "source": [
    "## ML OPS\n",
    "[Google cloud ML Ops](https://cloud.google.com/architecture/mlops-continuous-delivery-and-automation-pipelines-in-machine-learning)"
   ],
   "metadata": {
    "collapsed": false
   },
   "id": "48f0ed51e5c2a544"
  },
  {
   "cell_type": "code",
   "execution_count": null,
   "outputs": [],
   "source": [],
   "metadata": {
    "collapsed": false
   },
   "id": "e96b630993bcf575"
  },
  {
   "cell_type": "markdown",
   "source": [
    "## Agentic AI\n",
    "[Lang Graph](https://langchain-ai.github.io/langgraph/tutorials/introduction/)"
   ],
   "metadata": {
    "collapsed": false
   },
   "id": "40cf7380d1b144df"
  },
  {
   "cell_type": "markdown",
   "source": [
    "## Interpretable ML\n",
    "\n",
    "https://christophm.github.io/interpretable-ml-book/intro.html"
   ],
   "metadata": {
    "collapsed": false
   },
   "id": "7acfe6314370c8dc"
  },
  {
   "cell_type": "code",
   "execution_count": null,
   "outputs": [],
   "source": [],
   "metadata": {
    "collapsed": false
   },
   "id": "fb6291b9bccc6886"
  },
  {
   "cell_type": "code",
   "execution_count": null,
   "outputs": [],
   "source": [],
   "metadata": {
    "collapsed": false
   },
   "id": "511cf5e89b99ef6c"
  },
  {
   "cell_type": "markdown",
   "source": [],
   "metadata": {
    "collapsed": false
   },
   "id": "4e32610474d0b096"
  }
 ],
 "metadata": {
  "kernelspec": {
   "display_name": "Python 3",
   "language": "python",
   "name": "python3"
  },
  "language_info": {
   "codemirror_mode": {
    "name": "ipython",
    "version": 2
   },
   "file_extension": ".py",
   "mimetype": "text/x-python",
   "name": "python",
   "nbconvert_exporter": "python",
   "pygments_lexer": "ipython2",
   "version": "2.7.6"
  }
 },
 "nbformat": 4,
 "nbformat_minor": 5
}
