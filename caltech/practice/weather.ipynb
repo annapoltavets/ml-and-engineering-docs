{
 "cells": [
  {
   "cell_type": "code",
   "execution_count": 48,
   "id": "initial_id",
   "metadata": {
    "collapsed": true,
    "ExecuteTime": {
     "end_time": "2025-02-28T04:47:58.240792Z",
     "start_time": "2025-02-28T04:47:58.222372Z"
    }
   },
   "outputs": [],
   "source": [
    "import pandas as pd\n"
   ]
  },
  {
   "cell_type": "code",
   "execution_count": 49,
   "outputs": [
    {
     "name": "stdout",
     "output_type": "stream",
     "text": [
      "<class 'pandas.core.frame.DataFrame'>\n",
      "RangeIndex: 30 entries, 0 to 29\n",
      "Data columns (total 3 columns):\n",
      " #   Column         Non-Null Count  Dtype  \n",
      "---  ------         --------------  -----  \n",
      " 0   Day            30 non-null     int64  \n",
      " 1   Temperature    30 non-null     float64\n",
      " 2   Precipitation  30 non-null     float64\n",
      "dtypes: float64(2), int64(1)\n",
      "memory usage: 848.0 bytes\n"
     ]
    }
   ],
   "source": [
    "df = pd.read_csv('Weather_data.csv')\n",
    "df.info()"
   ],
   "metadata": {
    "collapsed": false,
    "ExecuteTime": {
     "end_time": "2025-02-28T04:47:58.279908Z",
     "start_time": "2025-02-28T04:47:58.226266Z"
    }
   },
   "id": "518b5026936a7d5a"
  },
  {
   "cell_type": "code",
   "execution_count": 50,
   "outputs": [],
   "source": [
    "def add_suffix(day):\n",
    "    match day:\n",
    "        case 1:\n",
    "            return \"1st\"\n",
    "        case 2:\n",
    "            return \"2nd\"\n",
    "        case 2:\n",
    "            return \"3d\"\n",
    "        case _:\n",
    "            return str(day) + \"th\"\n",
    "        "
   ],
   "metadata": {
    "collapsed": false,
    "ExecuteTime": {
     "end_time": "2025-02-28T04:47:58.281074Z",
     "start_time": "2025-02-28T04:47:58.242396Z"
    }
   },
   "id": "60f1bb4c65df175"
  },
  {
   "cell_type": "code",
   "execution_count": 51,
   "outputs": [],
   "source": [
    "df['Index'] = df['Day'].apply(add_suffix)"
   ],
   "metadata": {
    "collapsed": false,
    "ExecuteTime": {
     "end_time": "2025-02-28T04:47:58.281420Z",
     "start_time": "2025-02-28T04:47:58.250799Z"
    }
   },
   "id": "1cc9e243e0bdcfd8"
  },
  {
   "cell_type": "code",
   "execution_count": 52,
   "outputs": [
    {
     "data": {
      "text/plain": "   Day  Temperature  Precipitation Index\n0    1    23.232203       2.645556   1st\n1    2    25.727840       7.742337   2nd\n2    3    24.041451       4.561503   3th\n3    4    23.173248       5.684339   4th\n4    5    21.354822       0.187898   5th",
      "text/html": "<div>\n<style scoped>\n    .dataframe tbody tr th:only-of-type {\n        vertical-align: middle;\n    }\n\n    .dataframe tbody tr th {\n        vertical-align: top;\n    }\n\n    .dataframe thead th {\n        text-align: right;\n    }\n</style>\n<table border=\"1\" class=\"dataframe\">\n  <thead>\n    <tr style=\"text-align: right;\">\n      <th></th>\n      <th>Day</th>\n      <th>Temperature</th>\n      <th>Precipitation</th>\n      <th>Index</th>\n    </tr>\n  </thead>\n  <tbody>\n    <tr>\n      <th>0</th>\n      <td>1</td>\n      <td>23.232203</td>\n      <td>2.645556</td>\n      <td>1st</td>\n    </tr>\n    <tr>\n      <th>1</th>\n      <td>2</td>\n      <td>25.727840</td>\n      <td>7.742337</td>\n      <td>2nd</td>\n    </tr>\n    <tr>\n      <th>2</th>\n      <td>3</td>\n      <td>24.041451</td>\n      <td>4.561503</td>\n      <td>3th</td>\n    </tr>\n    <tr>\n      <th>3</th>\n      <td>4</td>\n      <td>23.173248</td>\n      <td>5.684339</td>\n      <td>4th</td>\n    </tr>\n    <tr>\n      <th>4</th>\n      <td>5</td>\n      <td>21.354822</td>\n      <td>0.187898</td>\n      <td>5th</td>\n    </tr>\n  </tbody>\n</table>\n</div>"
     },
     "execution_count": 52,
     "metadata": {},
     "output_type": "execute_result"
    }
   ],
   "source": [
    "df.head()"
   ],
   "metadata": {
    "collapsed": false,
    "ExecuteTime": {
     "end_time": "2025-02-28T04:47:58.283256Z",
     "start_time": "2025-02-28T04:47:58.255078Z"
    }
   },
   "id": "f1fd43ebd2a74db4"
  },
  {
   "cell_type": "code",
   "execution_count": 53,
   "outputs": [],
   "source": [
    "def categorize_temp(t):\n",
    "    if t < 5:\n",
    "        return 'Cold'\n",
    "    elif t <= 5 < 14:\n",
    "        return 'Bearable'\n",
    "    elif t <= 14 < 26:\n",
    "        return 'Nice'\n",
    "    else:\n",
    "        return 'Hot'"
   ],
   "metadata": {
    "collapsed": false,
    "ExecuteTime": {
     "end_time": "2025-02-28T04:47:58.311026Z",
     "start_time": "2025-02-28T04:47:58.283776Z"
    }
   },
   "id": "545f058501dd0fb9"
  },
  {
   "cell_type": "code",
   "execution_count": 54,
   "outputs": [],
   "source": [
    "df['Temp_Category'] = df['Temperature'].apply(categorize_temp)"
   ],
   "metadata": {
    "collapsed": false,
    "ExecuteTime": {
     "end_time": "2025-02-28T04:47:58.311487Z",
     "start_time": "2025-02-28T04:47:58.287736Z"
    }
   },
   "id": "8115f92cae22112a"
  },
  {
   "cell_type": "code",
   "execution_count": 55,
   "outputs": [
    {
     "data": {
      "text/plain": "    Day  Temperature  Precipitation Index Temp_Category\n0     1    23.232203       2.645556   1st           Hot\n1     2    25.727840       7.742337   2nd           Hot\n2     3    24.041451       4.561503   3th           Hot\n3     4    23.173248       5.684339   4th           Hot\n4     5    21.354822       0.187898   5th           Hot\n5     6    24.688412       6.176355   6th           Hot\n6     7    21.563808       6.120957   7th           Hot\n7     8    28.376595       6.169340   8th           Hot\n8     9    29.454941       9.437481   9th           Hot\n9    10    20.751623       6.818203  10th           Hot\n10   11    26.875876       3.595079  11th           Hot\n11   12    22.933424       4.370320  12th           Hot\n12   13    23.520668       6.976312  13th           Hot\n13   14    28.883950       0.602255  14th           Hot\n14   15    16.065541       6.667667  15th           Hot\n15   16    16.306939       6.706379  16th           Hot\n16   17    15.303276       2.103826  17th           Hot\n17   18    27.489298       1.289263  18th           Hot\n18   19    26.672351       3.154284  19th           Hot\n19   20    28.050182       3.637108  20th           Hot\n20   21    29.679275       5.701968  21th           Hot\n21   22    26.987378       4.386015  22th           Hot\n22   23    21.922190       9.883738  23th           Hot\n23   24    26.707938       1.020448  24th           Hot\n24   25    16.774116       2.088768  25th           Hot\n25   26    24.598815       1.613095  26th           Hot\n26   27    17.150299       6.531083  27th           Hot\n27   28    29.170034       2.532916  28th           Hot\n28   29    22.827725       4.663108  29th           Hot\n29   30    21.219929       2.444256  30th           Hot",
      "text/html": "<div>\n<style scoped>\n    .dataframe tbody tr th:only-of-type {\n        vertical-align: middle;\n    }\n\n    .dataframe tbody tr th {\n        vertical-align: top;\n    }\n\n    .dataframe thead th {\n        text-align: right;\n    }\n</style>\n<table border=\"1\" class=\"dataframe\">\n  <thead>\n    <tr style=\"text-align: right;\">\n      <th></th>\n      <th>Day</th>\n      <th>Temperature</th>\n      <th>Precipitation</th>\n      <th>Index</th>\n      <th>Temp_Category</th>\n    </tr>\n  </thead>\n  <tbody>\n    <tr>\n      <th>0</th>\n      <td>1</td>\n      <td>23.232203</td>\n      <td>2.645556</td>\n      <td>1st</td>\n      <td>Hot</td>\n    </tr>\n    <tr>\n      <th>1</th>\n      <td>2</td>\n      <td>25.727840</td>\n      <td>7.742337</td>\n      <td>2nd</td>\n      <td>Hot</td>\n    </tr>\n    <tr>\n      <th>2</th>\n      <td>3</td>\n      <td>24.041451</td>\n      <td>4.561503</td>\n      <td>3th</td>\n      <td>Hot</td>\n    </tr>\n    <tr>\n      <th>3</th>\n      <td>4</td>\n      <td>23.173248</td>\n      <td>5.684339</td>\n      <td>4th</td>\n      <td>Hot</td>\n    </tr>\n    <tr>\n      <th>4</th>\n      <td>5</td>\n      <td>21.354822</td>\n      <td>0.187898</td>\n      <td>5th</td>\n      <td>Hot</td>\n    </tr>\n    <tr>\n      <th>5</th>\n      <td>6</td>\n      <td>24.688412</td>\n      <td>6.176355</td>\n      <td>6th</td>\n      <td>Hot</td>\n    </tr>\n    <tr>\n      <th>6</th>\n      <td>7</td>\n      <td>21.563808</td>\n      <td>6.120957</td>\n      <td>7th</td>\n      <td>Hot</td>\n    </tr>\n    <tr>\n      <th>7</th>\n      <td>8</td>\n      <td>28.376595</td>\n      <td>6.169340</td>\n      <td>8th</td>\n      <td>Hot</td>\n    </tr>\n    <tr>\n      <th>8</th>\n      <td>9</td>\n      <td>29.454941</td>\n      <td>9.437481</td>\n      <td>9th</td>\n      <td>Hot</td>\n    </tr>\n    <tr>\n      <th>9</th>\n      <td>10</td>\n      <td>20.751623</td>\n      <td>6.818203</td>\n      <td>10th</td>\n      <td>Hot</td>\n    </tr>\n    <tr>\n      <th>10</th>\n      <td>11</td>\n      <td>26.875876</td>\n      <td>3.595079</td>\n      <td>11th</td>\n      <td>Hot</td>\n    </tr>\n    <tr>\n      <th>11</th>\n      <td>12</td>\n      <td>22.933424</td>\n      <td>4.370320</td>\n      <td>12th</td>\n      <td>Hot</td>\n    </tr>\n    <tr>\n      <th>12</th>\n      <td>13</td>\n      <td>23.520668</td>\n      <td>6.976312</td>\n      <td>13th</td>\n      <td>Hot</td>\n    </tr>\n    <tr>\n      <th>13</th>\n      <td>14</td>\n      <td>28.883950</td>\n      <td>0.602255</td>\n      <td>14th</td>\n      <td>Hot</td>\n    </tr>\n    <tr>\n      <th>14</th>\n      <td>15</td>\n      <td>16.065541</td>\n      <td>6.667667</td>\n      <td>15th</td>\n      <td>Hot</td>\n    </tr>\n    <tr>\n      <th>15</th>\n      <td>16</td>\n      <td>16.306939</td>\n      <td>6.706379</td>\n      <td>16th</td>\n      <td>Hot</td>\n    </tr>\n    <tr>\n      <th>16</th>\n      <td>17</td>\n      <td>15.303276</td>\n      <td>2.103826</td>\n      <td>17th</td>\n      <td>Hot</td>\n    </tr>\n    <tr>\n      <th>17</th>\n      <td>18</td>\n      <td>27.489298</td>\n      <td>1.289263</td>\n      <td>18th</td>\n      <td>Hot</td>\n    </tr>\n    <tr>\n      <th>18</th>\n      <td>19</td>\n      <td>26.672351</td>\n      <td>3.154284</td>\n      <td>19th</td>\n      <td>Hot</td>\n    </tr>\n    <tr>\n      <th>19</th>\n      <td>20</td>\n      <td>28.050182</td>\n      <td>3.637108</td>\n      <td>20th</td>\n      <td>Hot</td>\n    </tr>\n    <tr>\n      <th>20</th>\n      <td>21</td>\n      <td>29.679275</td>\n      <td>5.701968</td>\n      <td>21th</td>\n      <td>Hot</td>\n    </tr>\n    <tr>\n      <th>21</th>\n      <td>22</td>\n      <td>26.987378</td>\n      <td>4.386015</td>\n      <td>22th</td>\n      <td>Hot</td>\n    </tr>\n    <tr>\n      <th>22</th>\n      <td>23</td>\n      <td>21.922190</td>\n      <td>9.883738</td>\n      <td>23th</td>\n      <td>Hot</td>\n    </tr>\n    <tr>\n      <th>23</th>\n      <td>24</td>\n      <td>26.707938</td>\n      <td>1.020448</td>\n      <td>24th</td>\n      <td>Hot</td>\n    </tr>\n    <tr>\n      <th>24</th>\n      <td>25</td>\n      <td>16.774116</td>\n      <td>2.088768</td>\n      <td>25th</td>\n      <td>Hot</td>\n    </tr>\n    <tr>\n      <th>25</th>\n      <td>26</td>\n      <td>24.598815</td>\n      <td>1.613095</td>\n      <td>26th</td>\n      <td>Hot</td>\n    </tr>\n    <tr>\n      <th>26</th>\n      <td>27</td>\n      <td>17.150299</td>\n      <td>6.531083</td>\n      <td>27th</td>\n      <td>Hot</td>\n    </tr>\n    <tr>\n      <th>27</th>\n      <td>28</td>\n      <td>29.170034</td>\n      <td>2.532916</td>\n      <td>28th</td>\n      <td>Hot</td>\n    </tr>\n    <tr>\n      <th>28</th>\n      <td>29</td>\n      <td>22.827725</td>\n      <td>4.663108</td>\n      <td>29th</td>\n      <td>Hot</td>\n    </tr>\n    <tr>\n      <th>29</th>\n      <td>30</td>\n      <td>21.219929</td>\n      <td>2.444256</td>\n      <td>30th</td>\n      <td>Hot</td>\n    </tr>\n  </tbody>\n</table>\n</div>"
     },
     "execution_count": 55,
     "metadata": {},
     "output_type": "execute_result"
    }
   ],
   "source": [
    "df"
   ],
   "metadata": {
    "collapsed": false,
    "ExecuteTime": {
     "end_time": "2025-02-28T04:47:58.335459Z",
     "start_time": "2025-02-28T04:47:58.307087Z"
    }
   },
   "id": "4929832d5aff1820"
  },
  {
   "cell_type": "code",
   "execution_count": 56,
   "outputs": [
    {
     "data": {
      "text/plain": "    Day  Temperature  Precipitation Index Temp_Category  Weekday\n0     1    23.232203       2.645556   1st           Hot        1\n1     2    25.727840       7.742337   2nd           Hot        1\n2     3    24.041451       4.561503   3th           Hot        1\n3     4    23.173248       5.684339   4th           Hot        1\n4     5    21.354822       0.187898   5th           Hot        1\n5     6    24.688412       6.176355   6th           Hot        1\n6     7    21.563808       6.120957   7th           Hot        1\n7     8    28.376595       6.169340   8th           Hot        2\n8     9    29.454941       9.437481   9th           Hot        2\n9    10    20.751623       6.818203  10th           Hot        2\n10   11    26.875876       3.595079  11th           Hot        2\n11   12    22.933424       4.370320  12th           Hot        2\n12   13    23.520668       6.976312  13th           Hot        2\n13   14    28.883950       0.602255  14th           Hot        2\n14   15    16.065541       6.667667  15th           Hot        3\n15   16    16.306939       6.706379  16th           Hot        3\n16   17    15.303276       2.103826  17th           Hot        3\n17   18    27.489298       1.289263  18th           Hot        3\n18   19    26.672351       3.154284  19th           Hot        3\n19   20    28.050182       3.637108  20th           Hot        3\n20   21    29.679275       5.701968  21th           Hot        3\n21   22    26.987378       4.386015  22th           Hot        4\n22   23    21.922190       9.883738  23th           Hot        4\n23   24    26.707938       1.020448  24th           Hot        4\n24   25    16.774116       2.088768  25th           Hot        4\n25   26    24.598815       1.613095  26th           Hot        4\n26   27    17.150299       6.531083  27th           Hot        4\n27   28    29.170034       2.532916  28th           Hot        4\n28   29    22.827725       4.663108  29th           Hot        5\n29   30    21.219929       2.444256  30th           Hot        5",
      "text/html": "<div>\n<style scoped>\n    .dataframe tbody tr th:only-of-type {\n        vertical-align: middle;\n    }\n\n    .dataframe tbody tr th {\n        vertical-align: top;\n    }\n\n    .dataframe thead th {\n        text-align: right;\n    }\n</style>\n<table border=\"1\" class=\"dataframe\">\n  <thead>\n    <tr style=\"text-align: right;\">\n      <th></th>\n      <th>Day</th>\n      <th>Temperature</th>\n      <th>Precipitation</th>\n      <th>Index</th>\n      <th>Temp_Category</th>\n      <th>Weekday</th>\n    </tr>\n  </thead>\n  <tbody>\n    <tr>\n      <th>0</th>\n      <td>1</td>\n      <td>23.232203</td>\n      <td>2.645556</td>\n      <td>1st</td>\n      <td>Hot</td>\n      <td>1</td>\n    </tr>\n    <tr>\n      <th>1</th>\n      <td>2</td>\n      <td>25.727840</td>\n      <td>7.742337</td>\n      <td>2nd</td>\n      <td>Hot</td>\n      <td>1</td>\n    </tr>\n    <tr>\n      <th>2</th>\n      <td>3</td>\n      <td>24.041451</td>\n      <td>4.561503</td>\n      <td>3th</td>\n      <td>Hot</td>\n      <td>1</td>\n    </tr>\n    <tr>\n      <th>3</th>\n      <td>4</td>\n      <td>23.173248</td>\n      <td>5.684339</td>\n      <td>4th</td>\n      <td>Hot</td>\n      <td>1</td>\n    </tr>\n    <tr>\n      <th>4</th>\n      <td>5</td>\n      <td>21.354822</td>\n      <td>0.187898</td>\n      <td>5th</td>\n      <td>Hot</td>\n      <td>1</td>\n    </tr>\n    <tr>\n      <th>5</th>\n      <td>6</td>\n      <td>24.688412</td>\n      <td>6.176355</td>\n      <td>6th</td>\n      <td>Hot</td>\n      <td>1</td>\n    </tr>\n    <tr>\n      <th>6</th>\n      <td>7</td>\n      <td>21.563808</td>\n      <td>6.120957</td>\n      <td>7th</td>\n      <td>Hot</td>\n      <td>1</td>\n    </tr>\n    <tr>\n      <th>7</th>\n      <td>8</td>\n      <td>28.376595</td>\n      <td>6.169340</td>\n      <td>8th</td>\n      <td>Hot</td>\n      <td>2</td>\n    </tr>\n    <tr>\n      <th>8</th>\n      <td>9</td>\n      <td>29.454941</td>\n      <td>9.437481</td>\n      <td>9th</td>\n      <td>Hot</td>\n      <td>2</td>\n    </tr>\n    <tr>\n      <th>9</th>\n      <td>10</td>\n      <td>20.751623</td>\n      <td>6.818203</td>\n      <td>10th</td>\n      <td>Hot</td>\n      <td>2</td>\n    </tr>\n    <tr>\n      <th>10</th>\n      <td>11</td>\n      <td>26.875876</td>\n      <td>3.595079</td>\n      <td>11th</td>\n      <td>Hot</td>\n      <td>2</td>\n    </tr>\n    <tr>\n      <th>11</th>\n      <td>12</td>\n      <td>22.933424</td>\n      <td>4.370320</td>\n      <td>12th</td>\n      <td>Hot</td>\n      <td>2</td>\n    </tr>\n    <tr>\n      <th>12</th>\n      <td>13</td>\n      <td>23.520668</td>\n      <td>6.976312</td>\n      <td>13th</td>\n      <td>Hot</td>\n      <td>2</td>\n    </tr>\n    <tr>\n      <th>13</th>\n      <td>14</td>\n      <td>28.883950</td>\n      <td>0.602255</td>\n      <td>14th</td>\n      <td>Hot</td>\n      <td>2</td>\n    </tr>\n    <tr>\n      <th>14</th>\n      <td>15</td>\n      <td>16.065541</td>\n      <td>6.667667</td>\n      <td>15th</td>\n      <td>Hot</td>\n      <td>3</td>\n    </tr>\n    <tr>\n      <th>15</th>\n      <td>16</td>\n      <td>16.306939</td>\n      <td>6.706379</td>\n      <td>16th</td>\n      <td>Hot</td>\n      <td>3</td>\n    </tr>\n    <tr>\n      <th>16</th>\n      <td>17</td>\n      <td>15.303276</td>\n      <td>2.103826</td>\n      <td>17th</td>\n      <td>Hot</td>\n      <td>3</td>\n    </tr>\n    <tr>\n      <th>17</th>\n      <td>18</td>\n      <td>27.489298</td>\n      <td>1.289263</td>\n      <td>18th</td>\n      <td>Hot</td>\n      <td>3</td>\n    </tr>\n    <tr>\n      <th>18</th>\n      <td>19</td>\n      <td>26.672351</td>\n      <td>3.154284</td>\n      <td>19th</td>\n      <td>Hot</td>\n      <td>3</td>\n    </tr>\n    <tr>\n      <th>19</th>\n      <td>20</td>\n      <td>28.050182</td>\n      <td>3.637108</td>\n      <td>20th</td>\n      <td>Hot</td>\n      <td>3</td>\n    </tr>\n    <tr>\n      <th>20</th>\n      <td>21</td>\n      <td>29.679275</td>\n      <td>5.701968</td>\n      <td>21th</td>\n      <td>Hot</td>\n      <td>3</td>\n    </tr>\n    <tr>\n      <th>21</th>\n      <td>22</td>\n      <td>26.987378</td>\n      <td>4.386015</td>\n      <td>22th</td>\n      <td>Hot</td>\n      <td>4</td>\n    </tr>\n    <tr>\n      <th>22</th>\n      <td>23</td>\n      <td>21.922190</td>\n      <td>9.883738</td>\n      <td>23th</td>\n      <td>Hot</td>\n      <td>4</td>\n    </tr>\n    <tr>\n      <th>23</th>\n      <td>24</td>\n      <td>26.707938</td>\n      <td>1.020448</td>\n      <td>24th</td>\n      <td>Hot</td>\n      <td>4</td>\n    </tr>\n    <tr>\n      <th>24</th>\n      <td>25</td>\n      <td>16.774116</td>\n      <td>2.088768</td>\n      <td>25th</td>\n      <td>Hot</td>\n      <td>4</td>\n    </tr>\n    <tr>\n      <th>25</th>\n      <td>26</td>\n      <td>24.598815</td>\n      <td>1.613095</td>\n      <td>26th</td>\n      <td>Hot</td>\n      <td>4</td>\n    </tr>\n    <tr>\n      <th>26</th>\n      <td>27</td>\n      <td>17.150299</td>\n      <td>6.531083</td>\n      <td>27th</td>\n      <td>Hot</td>\n      <td>4</td>\n    </tr>\n    <tr>\n      <th>27</th>\n      <td>28</td>\n      <td>29.170034</td>\n      <td>2.532916</td>\n      <td>28th</td>\n      <td>Hot</td>\n      <td>4</td>\n    </tr>\n    <tr>\n      <th>28</th>\n      <td>29</td>\n      <td>22.827725</td>\n      <td>4.663108</td>\n      <td>29th</td>\n      <td>Hot</td>\n      <td>5</td>\n    </tr>\n    <tr>\n      <th>29</th>\n      <td>30</td>\n      <td>21.219929</td>\n      <td>2.444256</td>\n      <td>30th</td>\n      <td>Hot</td>\n      <td>5</td>\n    </tr>\n  </tbody>\n</table>\n</div>"
     },
     "execution_count": 56,
     "metadata": {},
     "output_type": "execute_result"
    }
   ],
   "source": [
    "df['Weekday'] = df['Day'].apply(lambda d: (d - 1) // 7 +1)\n",
    "df"
   ],
   "metadata": {
    "collapsed": false,
    "ExecuteTime": {
     "end_time": "2025-02-28T04:47:58.377641Z",
     "start_time": "2025-02-28T04:47:58.322668Z"
    }
   },
   "id": "b9a7a013e3bd1f75"
  },
  {
   "cell_type": "code",
   "execution_count": 65,
   "outputs": [
    {
     "data": {
      "text/plain": "         Temperature  Precipitation\nWeekday                            \n1          23.397398       4.731278\n2          25.828154       5.424141\n3          22.795266       4.180070\n4          23.330110       4.008009\n5          22.023827       3.553682",
      "text/html": "<div>\n<style scoped>\n    .dataframe tbody tr th:only-of-type {\n        vertical-align: middle;\n    }\n\n    .dataframe tbody tr th {\n        vertical-align: top;\n    }\n\n    .dataframe thead th {\n        text-align: right;\n    }\n</style>\n<table border=\"1\" class=\"dataframe\">\n  <thead>\n    <tr style=\"text-align: right;\">\n      <th></th>\n      <th>Temperature</th>\n      <th>Precipitation</th>\n    </tr>\n    <tr>\n      <th>Weekday</th>\n      <th></th>\n      <th></th>\n    </tr>\n  </thead>\n  <tbody>\n    <tr>\n      <th>1</th>\n      <td>23.397398</td>\n      <td>4.731278</td>\n    </tr>\n    <tr>\n      <th>2</th>\n      <td>25.828154</td>\n      <td>5.424141</td>\n    </tr>\n    <tr>\n      <th>3</th>\n      <td>22.795266</td>\n      <td>4.180070</td>\n    </tr>\n    <tr>\n      <th>4</th>\n      <td>23.330110</td>\n      <td>4.008009</td>\n    </tr>\n    <tr>\n      <th>5</th>\n      <td>22.023827</td>\n      <td>3.553682</td>\n    </tr>\n  </tbody>\n</table>\n</div>"
     },
     "execution_count": 65,
     "metadata": {},
     "output_type": "execute_result"
    }
   ],
   "source": [
    "df1 = pd.DataFrame(df.groupby('Weekday')[['Temperature', 'Precipitation']].mean())  \n",
    "df1"
   ],
   "metadata": {
    "collapsed": false,
    "ExecuteTime": {
     "end_time": "2025-02-28T04:50:14.189031Z",
     "start_time": "2025-02-28T04:50:14.181710Z"
    }
   },
   "id": "14b5b079b9397c21"
  },
  {
   "cell_type": "code",
   "execution_count": 66,
   "outputs": [
    {
     "data": {
      "text/plain": "Index(['Temperature', 'Precipitation'], dtype='object')"
     },
     "execution_count": 66,
     "metadata": {},
     "output_type": "execute_result"
    }
   ],
   "source": [
    "df1.columns\n"
   ],
   "metadata": {
    "collapsed": false,
    "ExecuteTime": {
     "end_time": "2025-02-28T04:50:23.098425Z",
     "start_time": "2025-02-28T04:50:23.090638Z"
    }
   },
   "id": "dca3adf7e1ab214"
  },
  {
   "cell_type": "code",
   "execution_count": 58,
   "outputs": [],
   "source": [
    "df2 = df1.rename({\"Weekday\": \"Weekday\", \"Temperature\": \"Avg_Temp\"})\n"
   ],
   "metadata": {
    "collapsed": false,
    "ExecuteTime": {
     "end_time": "2025-02-28T04:47:58.471773Z",
     "start_time": "2025-02-28T04:47:58.344706Z"
    }
   },
   "id": "15ad0fccf6b18dac"
  },
  {
   "cell_type": "code",
   "execution_count": 59,
   "outputs": [
    {
     "ename": "KeyError",
     "evalue": "'Weekday'",
     "output_type": "error",
     "traceback": [
      "\u001B[0;31m---------------------------------------------------------------------------\u001B[0m",
      "\u001B[0;31mKeyError\u001B[0m                                  Traceback (most recent call last)",
      "File \u001B[0;32m~/anaconda3/lib/python3.10/site-packages/pandas/core/indexes/base.py:3791\u001B[0m, in \u001B[0;36mIndex.get_loc\u001B[0;34m(self, key)\u001B[0m\n\u001B[1;32m   3790\u001B[0m \u001B[38;5;28;01mtry\u001B[39;00m:\n\u001B[0;32m-> 3791\u001B[0m     \u001B[38;5;28;01mreturn\u001B[39;00m \u001B[38;5;28;43mself\u001B[39;49m\u001B[38;5;241;43m.\u001B[39;49m\u001B[43m_engine\u001B[49m\u001B[38;5;241;43m.\u001B[39;49m\u001B[43mget_loc\u001B[49m\u001B[43m(\u001B[49m\u001B[43mcasted_key\u001B[49m\u001B[43m)\u001B[49m\n\u001B[1;32m   3792\u001B[0m \u001B[38;5;28;01mexcept\u001B[39;00m \u001B[38;5;167;01mKeyError\u001B[39;00m \u001B[38;5;28;01mas\u001B[39;00m err:\n",
      "File \u001B[0;32mindex.pyx:152\u001B[0m, in \u001B[0;36mpandas._libs.index.IndexEngine.get_loc\u001B[0;34m()\u001B[0m\n",
      "File \u001B[0;32mindex.pyx:160\u001B[0m, in \u001B[0;36mpandas._libs.index.IndexEngine.get_loc\u001B[0;34m()\u001B[0m\n",
      "File \u001B[0;32mpandas/_libs/index_class_helper.pxi:70\u001B[0m, in \u001B[0;36mpandas._libs.index.Int64Engine._check_type\u001B[0;34m()\u001B[0m\n",
      "\u001B[0;31mKeyError\u001B[0m: 'Weekday'",
      "\nThe above exception was the direct cause of the following exception:\n",
      "\u001B[0;31mKeyError\u001B[0m                                  Traceback (most recent call last)",
      "Cell \u001B[0;32mIn[59], line 1\u001B[0m\n\u001B[0;32m----> 1\u001B[0m df\u001B[38;5;241m.\u001B[39mmerge(df1, on\u001B[38;5;241m=\u001B[39mdf[\u001B[38;5;124m'\u001B[39m\u001B[38;5;124mWeekday\u001B[39m\u001B[38;5;124m'\u001B[39m] \u001B[38;5;241m==\u001B[39m \u001B[43mdf1\u001B[49m\u001B[43m[\u001B[49m\u001B[38;5;124;43m'\u001B[39;49m\u001B[38;5;124;43mWeekday\u001B[39;49m\u001B[38;5;124;43m'\u001B[39;49m\u001B[43m]\u001B[49m)\n",
      "File \u001B[0;32m~/anaconda3/lib/python3.10/site-packages/pandas/core/series.py:1040\u001B[0m, in \u001B[0;36mSeries.__getitem__\u001B[0;34m(self, key)\u001B[0m\n\u001B[1;32m   1037\u001B[0m     \u001B[38;5;28;01mreturn\u001B[39;00m \u001B[38;5;28mself\u001B[39m\u001B[38;5;241m.\u001B[39m_values[key]\n\u001B[1;32m   1039\u001B[0m \u001B[38;5;28;01melif\u001B[39;00m key_is_scalar:\n\u001B[0;32m-> 1040\u001B[0m     \u001B[38;5;28;01mreturn\u001B[39;00m \u001B[38;5;28;43mself\u001B[39;49m\u001B[38;5;241;43m.\u001B[39;49m\u001B[43m_get_value\u001B[49m\u001B[43m(\u001B[49m\u001B[43mkey\u001B[49m\u001B[43m)\u001B[49m\n\u001B[1;32m   1042\u001B[0m \u001B[38;5;66;03m# Convert generator to list before going through hashable part\u001B[39;00m\n\u001B[1;32m   1043\u001B[0m \u001B[38;5;66;03m# (We will iterate through the generator there to check for slices)\u001B[39;00m\n\u001B[1;32m   1044\u001B[0m \u001B[38;5;28;01mif\u001B[39;00m is_iterator(key):\n",
      "File \u001B[0;32m~/anaconda3/lib/python3.10/site-packages/pandas/core/series.py:1156\u001B[0m, in \u001B[0;36mSeries._get_value\u001B[0;34m(self, label, takeable)\u001B[0m\n\u001B[1;32m   1153\u001B[0m     \u001B[38;5;28;01mreturn\u001B[39;00m \u001B[38;5;28mself\u001B[39m\u001B[38;5;241m.\u001B[39m_values[label]\n\u001B[1;32m   1155\u001B[0m \u001B[38;5;66;03m# Similar to Index.get_value, but we do not fall back to positional\u001B[39;00m\n\u001B[0;32m-> 1156\u001B[0m loc \u001B[38;5;241m=\u001B[39m \u001B[38;5;28;43mself\u001B[39;49m\u001B[38;5;241;43m.\u001B[39;49m\u001B[43mindex\u001B[49m\u001B[38;5;241;43m.\u001B[39;49m\u001B[43mget_loc\u001B[49m\u001B[43m(\u001B[49m\u001B[43mlabel\u001B[49m\u001B[43m)\u001B[49m\n\u001B[1;32m   1158\u001B[0m \u001B[38;5;28;01mif\u001B[39;00m is_integer(loc):\n\u001B[1;32m   1159\u001B[0m     \u001B[38;5;28;01mreturn\u001B[39;00m \u001B[38;5;28mself\u001B[39m\u001B[38;5;241m.\u001B[39m_values[loc]\n",
      "File \u001B[0;32m~/anaconda3/lib/python3.10/site-packages/pandas/core/indexes/base.py:3798\u001B[0m, in \u001B[0;36mIndex.get_loc\u001B[0;34m(self, key)\u001B[0m\n\u001B[1;32m   3793\u001B[0m     \u001B[38;5;28;01mif\u001B[39;00m \u001B[38;5;28misinstance\u001B[39m(casted_key, \u001B[38;5;28mslice\u001B[39m) \u001B[38;5;129;01mor\u001B[39;00m (\n\u001B[1;32m   3794\u001B[0m         \u001B[38;5;28misinstance\u001B[39m(casted_key, abc\u001B[38;5;241m.\u001B[39mIterable)\n\u001B[1;32m   3795\u001B[0m         \u001B[38;5;129;01mand\u001B[39;00m \u001B[38;5;28many\u001B[39m(\u001B[38;5;28misinstance\u001B[39m(x, \u001B[38;5;28mslice\u001B[39m) \u001B[38;5;28;01mfor\u001B[39;00m x \u001B[38;5;129;01min\u001B[39;00m casted_key)\n\u001B[1;32m   3796\u001B[0m     ):\n\u001B[1;32m   3797\u001B[0m         \u001B[38;5;28;01mraise\u001B[39;00m InvalidIndexError(key)\n\u001B[0;32m-> 3798\u001B[0m     \u001B[38;5;28;01mraise\u001B[39;00m \u001B[38;5;167;01mKeyError\u001B[39;00m(key) \u001B[38;5;28;01mfrom\u001B[39;00m \u001B[38;5;21;01merr\u001B[39;00m\n\u001B[1;32m   3799\u001B[0m \u001B[38;5;28;01mexcept\u001B[39;00m \u001B[38;5;167;01mTypeError\u001B[39;00m:\n\u001B[1;32m   3800\u001B[0m     \u001B[38;5;66;03m# If we have a listlike key, _check_indexing_error will raise\u001B[39;00m\n\u001B[1;32m   3801\u001B[0m     \u001B[38;5;66;03m#  InvalidIndexError. Otherwise we fall through and re-raise\u001B[39;00m\n\u001B[1;32m   3802\u001B[0m     \u001B[38;5;66;03m#  the TypeError.\u001B[39;00m\n\u001B[1;32m   3803\u001B[0m     \u001B[38;5;28mself\u001B[39m\u001B[38;5;241m.\u001B[39m_check_indexing_error(key)\n",
      "\u001B[0;31mKeyError\u001B[0m: 'Weekday'"
     ]
    }
   ],
   "source": [
    "df.merge(df1, on=df['Weekday'] == df1['Weekday'])"
   ],
   "metadata": {
    "collapsed": false,
    "ExecuteTime": {
     "end_time": "2025-02-28T04:47:58.493418Z",
     "start_time": "2025-02-28T04:47:58.416255Z"
    }
   },
   "id": "c1e7a853a19516b8"
  },
  {
   "cell_type": "code",
   "execution_count": 4,
   "outputs": [
    {
     "name": "stdout",
     "output_type": "stream",
     "text": [
      "SPRING_PROFILES_ACTIVE=prod;NEW_RELIC_LABELS=Appid:app02432;Environment:PROD;NEW_RELIC_APP_NAME=${APP_NAME}-app02432-PROD;STATSD_HOST=localhost;STATSD_PORT=8080;SASL_ACCESS_KEY=APP02239.ODCNPSVBTBC4BNQBI;SASL_SECRET=1Iq5J2ibS2EGpcg6dBQHOreEr3OHpWaYKgWlwmMnGTz.piix2JId8ebmwkYHwvQaB5tMVW6xcCToqkGJqPn4VEc65Ob.Dr6seNXe6tWpBw8HCkZF7cH.VKEp4logBMvW;\n"
     ]
    }
   ],
   "source": [],
   "metadata": {
    "collapsed": false,
    "ExecuteTime": {
     "end_time": "2025-04-07T16:51:17.633035Z",
     "start_time": "2025-04-07T16:51:17.612980Z"
    }
   },
   "id": "2b2f05f201e7f965"
  }
 ],
 "metadata": {
  "kernelspec": {
   "display_name": "Python 3",
   "language": "python",
   "name": "python3"
  },
  "language_info": {
   "codemirror_mode": {
    "name": "ipython",
    "version": 2
   },
   "file_extension": ".py",
   "mimetype": "text/x-python",
   "name": "python",
   "nbconvert_exporter": "python",
   "pygments_lexer": "ipython2",
   "version": "2.7.6"
  }
 },
 "nbformat": 4,
 "nbformat_minor": 5
}
